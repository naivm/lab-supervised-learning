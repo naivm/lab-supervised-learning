{
 "cells": [
  {
   "cell_type": "markdown",
   "metadata": {},
   "source": [
    "# Before your start:\n",
    "- Read the README.md file\n",
    "- Comment as much as you can and use the resources in the README.md file\n",
    "- Happy learning!"
   ]
  },
  {
   "cell_type": "code",
   "execution_count": 1,
   "metadata": {},
   "outputs": [],
   "source": [
    "# Import your libraries:\n",
    "\n",
    "%matplotlib inline\n",
    "\n",
    "import numpy as np\n",
    "import pandas as pd\n",
    "import seaborn as sns"
   ]
  },
  {
   "cell_type": "markdown",
   "metadata": {},
   "source": [
    "In this lab, we will explore a dataset that describes websites with different features and labels them either benign or malicious . We will use supervised learning algorithms to figure out what feature patterns malicious websites are likely to have and use our model to predict malicious websites.\n",
    "\n",
    "# Challenge 1 - Explore The Dataset\n",
    "\n",
    "Let's start by exploring the dataset. First load the data file:"
   ]
  },
  {
   "cell_type": "code",
   "execution_count": 2,
   "metadata": {},
   "outputs": [],
   "source": [
    "websites = pd.read_csv('../data/website.csv')"
   ]
  },
  {
   "cell_type": "markdown",
   "metadata": {},
   "source": [
    "#### Explore the data from an bird's-eye view.\n",
    "\n",
    "You should already been very familiar with the procedures now so we won't provide the instructions step by step. Reflect on what you did in the previous labs and explore the dataset.\n",
    "\n",
    "Things you'll be looking for:\n",
    "\n",
    "* What the dataset looks like?\n",
    "* What are the data types?\n",
    "* Which columns contain the features of the websites?\n",
    "* Which column contains the feature we will predict? What is the code standing for benign vs malicious websites?\n",
    "* Do we need to transform any of the columns from categorical to ordinal values? If so what are these columns?\n",
    "\n",
    "Feel free to add additional cells for your explorations. Make sure to comment what you find out."
   ]
  },
  {
   "cell_type": "code",
   "execution_count": 3,
   "metadata": {},
   "outputs": [
    {
     "data": {
      "text/html": [
       "<div>\n",
       "<style scoped>\n",
       "    .dataframe tbody tr th:only-of-type {\n",
       "        vertical-align: middle;\n",
       "    }\n",
       "\n",
       "    .dataframe tbody tr th {\n",
       "        vertical-align: top;\n",
       "    }\n",
       "\n",
       "    .dataframe thead th {\n",
       "        text-align: right;\n",
       "    }\n",
       "</style>\n",
       "<table border=\"1\" class=\"dataframe\">\n",
       "  <thead>\n",
       "    <tr style=\"text-align: right;\">\n",
       "      <th></th>\n",
       "      <th>URL</th>\n",
       "      <th>URL_LENGTH</th>\n",
       "      <th>NUMBER_SPECIAL_CHARACTERS</th>\n",
       "      <th>CHARSET</th>\n",
       "      <th>SERVER</th>\n",
       "      <th>CONTENT_LENGTH</th>\n",
       "      <th>WHOIS_COUNTRY</th>\n",
       "      <th>WHOIS_STATEPRO</th>\n",
       "      <th>WHOIS_REGDATE</th>\n",
       "      <th>WHOIS_UPDATED_DATE</th>\n",
       "      <th>...</th>\n",
       "      <th>DIST_REMOTE_TCP_PORT</th>\n",
       "      <th>REMOTE_IPS</th>\n",
       "      <th>APP_BYTES</th>\n",
       "      <th>SOURCE_APP_PACKETS</th>\n",
       "      <th>REMOTE_APP_PACKETS</th>\n",
       "      <th>SOURCE_APP_BYTES</th>\n",
       "      <th>REMOTE_APP_BYTES</th>\n",
       "      <th>APP_PACKETS</th>\n",
       "      <th>DNS_QUERY_TIMES</th>\n",
       "      <th>Type</th>\n",
       "    </tr>\n",
       "  </thead>\n",
       "  <tbody>\n",
       "    <tr>\n",
       "      <th>0</th>\n",
       "      <td>M0_109</td>\n",
       "      <td>16</td>\n",
       "      <td>7</td>\n",
       "      <td>iso-8859-1</td>\n",
       "      <td>nginx</td>\n",
       "      <td>263.0</td>\n",
       "      <td>None</td>\n",
       "      <td>None</td>\n",
       "      <td>10/10/2015 18:21</td>\n",
       "      <td>None</td>\n",
       "      <td>...</td>\n",
       "      <td>0</td>\n",
       "      <td>2</td>\n",
       "      <td>700</td>\n",
       "      <td>9</td>\n",
       "      <td>10</td>\n",
       "      <td>1153</td>\n",
       "      <td>832</td>\n",
       "      <td>9</td>\n",
       "      <td>2.0</td>\n",
       "      <td>1</td>\n",
       "    </tr>\n",
       "    <tr>\n",
       "      <th>1</th>\n",
       "      <td>B0_2314</td>\n",
       "      <td>16</td>\n",
       "      <td>6</td>\n",
       "      <td>UTF-8</td>\n",
       "      <td>Apache/2.4.10</td>\n",
       "      <td>15087.0</td>\n",
       "      <td>None</td>\n",
       "      <td>None</td>\n",
       "      <td>None</td>\n",
       "      <td>None</td>\n",
       "      <td>...</td>\n",
       "      <td>7</td>\n",
       "      <td>4</td>\n",
       "      <td>1230</td>\n",
       "      <td>17</td>\n",
       "      <td>19</td>\n",
       "      <td>1265</td>\n",
       "      <td>1230</td>\n",
       "      <td>17</td>\n",
       "      <td>0.0</td>\n",
       "      <td>0</td>\n",
       "    </tr>\n",
       "    <tr>\n",
       "      <th>2</th>\n",
       "      <td>B0_911</td>\n",
       "      <td>16</td>\n",
       "      <td>6</td>\n",
       "      <td>us-ascii</td>\n",
       "      <td>Microsoft-HTTPAPI/2.0</td>\n",
       "      <td>324.0</td>\n",
       "      <td>None</td>\n",
       "      <td>None</td>\n",
       "      <td>None</td>\n",
       "      <td>None</td>\n",
       "      <td>...</td>\n",
       "      <td>0</td>\n",
       "      <td>0</td>\n",
       "      <td>0</td>\n",
       "      <td>0</td>\n",
       "      <td>0</td>\n",
       "      <td>0</td>\n",
       "      <td>0</td>\n",
       "      <td>0</td>\n",
       "      <td>0.0</td>\n",
       "      <td>0</td>\n",
       "    </tr>\n",
       "    <tr>\n",
       "      <th>3</th>\n",
       "      <td>B0_113</td>\n",
       "      <td>17</td>\n",
       "      <td>6</td>\n",
       "      <td>ISO-8859-1</td>\n",
       "      <td>nginx</td>\n",
       "      <td>162.0</td>\n",
       "      <td>US</td>\n",
       "      <td>AK</td>\n",
       "      <td>7/10/1997 4:00</td>\n",
       "      <td>12/09/2013 0:45</td>\n",
       "      <td>...</td>\n",
       "      <td>22</td>\n",
       "      <td>3</td>\n",
       "      <td>3812</td>\n",
       "      <td>39</td>\n",
       "      <td>37</td>\n",
       "      <td>18784</td>\n",
       "      <td>4380</td>\n",
       "      <td>39</td>\n",
       "      <td>8.0</td>\n",
       "      <td>0</td>\n",
       "    </tr>\n",
       "    <tr>\n",
       "      <th>4</th>\n",
       "      <td>B0_403</td>\n",
       "      <td>17</td>\n",
       "      <td>6</td>\n",
       "      <td>UTF-8</td>\n",
       "      <td>None</td>\n",
       "      <td>124140.0</td>\n",
       "      <td>US</td>\n",
       "      <td>TX</td>\n",
       "      <td>12/05/1996 0:00</td>\n",
       "      <td>11/04/2017 0:00</td>\n",
       "      <td>...</td>\n",
       "      <td>2</td>\n",
       "      <td>5</td>\n",
       "      <td>4278</td>\n",
       "      <td>61</td>\n",
       "      <td>62</td>\n",
       "      <td>129889</td>\n",
       "      <td>4586</td>\n",
       "      <td>61</td>\n",
       "      <td>4.0</td>\n",
       "      <td>0</td>\n",
       "    </tr>\n",
       "  </tbody>\n",
       "</table>\n",
       "<p>5 rows × 21 columns</p>\n",
       "</div>"
      ],
      "text/plain": [
       "       URL  URL_LENGTH  NUMBER_SPECIAL_CHARACTERS     CHARSET  \\\n",
       "0   M0_109          16                          7  iso-8859-1   \n",
       "1  B0_2314          16                          6       UTF-8   \n",
       "2   B0_911          16                          6    us-ascii   \n",
       "3   B0_113          17                          6  ISO-8859-1   \n",
       "4   B0_403          17                          6       UTF-8   \n",
       "\n",
       "                  SERVER  CONTENT_LENGTH WHOIS_COUNTRY WHOIS_STATEPRO  \\\n",
       "0                  nginx           263.0          None           None   \n",
       "1          Apache/2.4.10         15087.0          None           None   \n",
       "2  Microsoft-HTTPAPI/2.0           324.0          None           None   \n",
       "3                  nginx           162.0            US             AK   \n",
       "4                   None        124140.0            US             TX   \n",
       "\n",
       "      WHOIS_REGDATE WHOIS_UPDATED_DATE  ...  DIST_REMOTE_TCP_PORT  REMOTE_IPS  \\\n",
       "0  10/10/2015 18:21               None  ...                     0           2   \n",
       "1              None               None  ...                     7           4   \n",
       "2              None               None  ...                     0           0   \n",
       "3    7/10/1997 4:00    12/09/2013 0:45  ...                    22           3   \n",
       "4   12/05/1996 0:00    11/04/2017 0:00  ...                     2           5   \n",
       "\n",
       "   APP_BYTES  SOURCE_APP_PACKETS  REMOTE_APP_PACKETS  SOURCE_APP_BYTES  \\\n",
       "0        700                   9                  10              1153   \n",
       "1       1230                  17                  19              1265   \n",
       "2          0                   0                   0                 0   \n",
       "3       3812                  39                  37             18784   \n",
       "4       4278                  61                  62            129889   \n",
       "\n",
       "   REMOTE_APP_BYTES  APP_PACKETS  DNS_QUERY_TIMES  Type  \n",
       "0               832            9              2.0     1  \n",
       "1              1230           17              0.0     0  \n",
       "2                 0            0              0.0     0  \n",
       "3              4380           39              8.0     0  \n",
       "4              4586           61              4.0     0  \n",
       "\n",
       "[5 rows x 21 columns]"
      ]
     },
     "execution_count": 3,
     "metadata": {},
     "output_type": "execute_result"
    }
   ],
   "source": [
    "# Your code here\n",
    "websites.head(5)"
   ]
  },
  {
   "cell_type": "code",
   "execution_count": 4,
   "metadata": {},
   "outputs": [],
   "source": [
    "# Your comment here"
   ]
  },
  {
   "cell_type": "markdown",
   "metadata": {},
   "source": [
    "#### Next, evaluate if the columns in this dataset are strongly correlated.\n",
    "\n",
    "In the Mushroom supervised learning lab we did recently, we mentioned we are concerned if our dataset has strongly correlated columns because if it is the case we need to choose certain ML algorithms instead of others. We need to evaluate this for our dataset now.\n",
    "\n",
    "Luckily, most of the columns in this dataset are ordinal which makes things a lot easier for us. In the next cells below, evaluate the level of collinearity of the data.\n",
    "\n",
    "We provide some general directions for you to consult in order to complete this step:\n",
    "\n",
    "1. You will create a correlation matrix using the numeric columns in the dataset.\n",
    "\n",
    "1. Create a heatmap using `seaborn` to visualize which columns have high collinearity.\n",
    "\n",
    "1. Comment on which columns you might need to remove due to high collinearity."
   ]
  },
  {
   "cell_type": "code",
   "execution_count": 5,
   "metadata": {},
   "outputs": [],
   "source": [
    "# Your code here\n",
    "correlation = websites.corr()"
   ]
  },
  {
   "cell_type": "code",
   "execution_count": 6,
   "metadata": {},
   "outputs": [
    {
     "data": {
      "text/html": [
       "<style  type=\"text/css\" >\n",
       "    #T_fbf2df18_dfc7_11e9_9879_48a4720ed28crow0_col0 {\n",
       "            background-color:  #006837;\n",
       "            color:  #f1f1f1;\n",
       "        }    #T_fbf2df18_dfc7_11e9_9879_48a4720ed28crow0_col1 {\n",
       "            background-color:  #138c4a;\n",
       "            color:  #000000;\n",
       "        }    #T_fbf2df18_dfc7_11e9_9879_48a4720ed28crow0_col2 {\n",
       "            background-color:  #f46d43;\n",
       "            color:  #000000;\n",
       "        }    #T_fbf2df18_dfc7_11e9_9879_48a4720ed28crow0_col3 {\n",
       "            background-color:  #bd1726;\n",
       "            color:  #f1f1f1;\n",
       "        }    #T_fbf2df18_dfc7_11e9_9879_48a4720ed28crow0_col4 {\n",
       "            background-color:  #bb1526;\n",
       "            color:  #f1f1f1;\n",
       "        }    #T_fbf2df18_dfc7_11e9_9879_48a4720ed28crow0_col5 {\n",
       "            background-color:  #b91326;\n",
       "            color:  #f1f1f1;\n",
       "        }    #T_fbf2df18_dfc7_11e9_9879_48a4720ed28crow0_col6 {\n",
       "            background-color:  #c21c27;\n",
       "            color:  #f1f1f1;\n",
       "        }    #T_fbf2df18_dfc7_11e9_9879_48a4720ed28crow0_col7 {\n",
       "            background-color:  #bb1526;\n",
       "            color:  #f1f1f1;\n",
       "        }    #T_fbf2df18_dfc7_11e9_9879_48a4720ed28crow0_col8 {\n",
       "            background-color:  #be1827;\n",
       "            color:  #f1f1f1;\n",
       "        }    #T_fbf2df18_dfc7_11e9_9879_48a4720ed28crow0_col9 {\n",
       "            background-color:  #c62027;\n",
       "            color:  #f1f1f1;\n",
       "        }    #T_fbf2df18_dfc7_11e9_9879_48a4720ed28crow0_col10 {\n",
       "            background-color:  #c21c27;\n",
       "            color:  #f1f1f1;\n",
       "        }    #T_fbf2df18_dfc7_11e9_9879_48a4720ed28crow0_col11 {\n",
       "            background-color:  #bb1526;\n",
       "            color:  #f1f1f1;\n",
       "        }    #T_fbf2df18_dfc7_11e9_9879_48a4720ed28crow0_col12 {\n",
       "            background-color:  #af0926;\n",
       "            color:  #f1f1f1;\n",
       "        }    #T_fbf2df18_dfc7_11e9_9879_48a4720ed28crow0_col13 {\n",
       "            background-color:  #f7814c;\n",
       "            color:  #000000;\n",
       "        }    #T_fbf2df18_dfc7_11e9_9879_48a4720ed28crow1_col0 {\n",
       "            background-color:  #138c4a;\n",
       "            color:  #000000;\n",
       "        }    #T_fbf2df18_dfc7_11e9_9879_48a4720ed28crow1_col1 {\n",
       "            background-color:  #006837;\n",
       "            color:  #f1f1f1;\n",
       "        }    #T_fbf2df18_dfc7_11e9_9879_48a4720ed28crow1_col2 {\n",
       "            background-color:  #fba05b;\n",
       "            color:  #000000;\n",
       "        }    #T_fbf2df18_dfc7_11e9_9879_48a4720ed28crow1_col3 {\n",
       "            background-color:  #bd1726;\n",
       "            color:  #f1f1f1;\n",
       "        }    #T_fbf2df18_dfc7_11e9_9879_48a4720ed28crow1_col4 {\n",
       "            background-color:  #bb1526;\n",
       "            color:  #f1f1f1;\n",
       "        }    #T_fbf2df18_dfc7_11e9_9879_48a4720ed28crow1_col5 {\n",
       "            background-color:  #b91326;\n",
       "            color:  #f1f1f1;\n",
       "        }    #T_fbf2df18_dfc7_11e9_9879_48a4720ed28crow1_col6 {\n",
       "            background-color:  #c21c27;\n",
       "            color:  #f1f1f1;\n",
       "        }    #T_fbf2df18_dfc7_11e9_9879_48a4720ed28crow1_col7 {\n",
       "            background-color:  #bb1526;\n",
       "            color:  #f1f1f1;\n",
       "        }    #T_fbf2df18_dfc7_11e9_9879_48a4720ed28crow1_col8 {\n",
       "            background-color:  #c01a27;\n",
       "            color:  #f1f1f1;\n",
       "        }    #T_fbf2df18_dfc7_11e9_9879_48a4720ed28crow1_col9 {\n",
       "            background-color:  #c62027;\n",
       "            color:  #f1f1f1;\n",
       "        }    #T_fbf2df18_dfc7_11e9_9879_48a4720ed28crow1_col10 {\n",
       "            background-color:  #c21c27;\n",
       "            color:  #f1f1f1;\n",
       "        }    #T_fbf2df18_dfc7_11e9_9879_48a4720ed28crow1_col11 {\n",
       "            background-color:  #bb1526;\n",
       "            color:  #f1f1f1;\n",
       "        }    #T_fbf2df18_dfc7_11e9_9879_48a4720ed28crow1_col12 {\n",
       "            background-color:  #b71126;\n",
       "            color:  #f1f1f1;\n",
       "        }    #T_fbf2df18_dfc7_11e9_9879_48a4720ed28crow1_col13 {\n",
       "            background-color:  #fdc372;\n",
       "            color:  #000000;\n",
       "        }    #T_fbf2df18_dfc7_11e9_9879_48a4720ed28crow2_col0 {\n",
       "            background-color:  #f46d43;\n",
       "            color:  #000000;\n",
       "        }    #T_fbf2df18_dfc7_11e9_9879_48a4720ed28crow2_col1 {\n",
       "            background-color:  #fba05b;\n",
       "            color:  #000000;\n",
       "        }    #T_fbf2df18_dfc7_11e9_9879_48a4720ed28crow2_col2 {\n",
       "            background-color:  #006837;\n",
       "            color:  #f1f1f1;\n",
       "        }    #T_fbf2df18_dfc7_11e9_9879_48a4720ed28crow2_col3 {\n",
       "            background-color:  #e65036;\n",
       "            color:  #000000;\n",
       "        }    #T_fbf2df18_dfc7_11e9_9879_48a4720ed28crow2_col4 {\n",
       "            background-color:  #ce2827;\n",
       "            color:  #f1f1f1;\n",
       "        }    #T_fbf2df18_dfc7_11e9_9879_48a4720ed28crow2_col5 {\n",
       "            background-color:  #d02927;\n",
       "            color:  #f1f1f1;\n",
       "        }    #T_fbf2df18_dfc7_11e9_9879_48a4720ed28crow2_col6 {\n",
       "            background-color:  #e0422f;\n",
       "            color:  #f1f1f1;\n",
       "        }    #T_fbf2df18_dfc7_11e9_9879_48a4720ed28crow2_col7 {\n",
       "            background-color:  #e54e35;\n",
       "            color:  #000000;\n",
       "        }    #T_fbf2df18_dfc7_11e9_9879_48a4720ed28crow2_col8 {\n",
       "            background-color:  #ea5739;\n",
       "            color:  #000000;\n",
       "        }    #T_fbf2df18_dfc7_11e9_9879_48a4720ed28crow2_col9 {\n",
       "            background-color:  #ec5c3b;\n",
       "            color:  #000000;\n",
       "        }    #T_fbf2df18_dfc7_11e9_9879_48a4720ed28crow2_col10 {\n",
       "            background-color:  #de402e;\n",
       "            color:  #f1f1f1;\n",
       "        }    #T_fbf2df18_dfc7_11e9_9879_48a4720ed28crow2_col11 {\n",
       "            background-color:  #e54e35;\n",
       "            color:  #000000;\n",
       "        }    #T_fbf2df18_dfc7_11e9_9879_48a4720ed28crow2_col12 {\n",
       "            background-color:  #b91326;\n",
       "            color:  #f1f1f1;\n",
       "        }    #T_fbf2df18_dfc7_11e9_9879_48a4720ed28crow2_col13 {\n",
       "            background-color:  #a50026;\n",
       "            color:  #f1f1f1;\n",
       "        }    #T_fbf2df18_dfc7_11e9_9879_48a4720ed28crow3_col0 {\n",
       "            background-color:  #bd1726;\n",
       "            color:  #f1f1f1;\n",
       "        }    #T_fbf2df18_dfc7_11e9_9879_48a4720ed28crow3_col1 {\n",
       "            background-color:  #bd1726;\n",
       "            color:  #f1f1f1;\n",
       "        }    #T_fbf2df18_dfc7_11e9_9879_48a4720ed28crow3_col2 {\n",
       "            background-color:  #e65036;\n",
       "            color:  #000000;\n",
       "        }    #T_fbf2df18_dfc7_11e9_9879_48a4720ed28crow3_col3 {\n",
       "            background-color:  #006837;\n",
       "            color:  #f1f1f1;\n",
       "        }    #T_fbf2df18_dfc7_11e9_9879_48a4720ed28crow3_col4 {\n",
       "            background-color:  #dcf08f;\n",
       "            color:  #000000;\n",
       "        }    #T_fbf2df18_dfc7_11e9_9879_48a4720ed28crow3_col5 {\n",
       "            background-color:  #feda86;\n",
       "            color:  #000000;\n",
       "        }    #T_fbf2df18_dfc7_11e9_9879_48a4720ed28crow3_col6 {\n",
       "            background-color:  #feffbe;\n",
       "            color:  #000000;\n",
       "        }    #T_fbf2df18_dfc7_11e9_9879_48a4720ed28crow3_col7 {\n",
       "            background-color:  #006837;\n",
       "            color:  #f1f1f1;\n",
       "        }    #T_fbf2df18_dfc7_11e9_9879_48a4720ed28crow3_col8 {\n",
       "            background-color:  #026c39;\n",
       "            color:  #f1f1f1;\n",
       "        }    #T_fbf2df18_dfc7_11e9_9879_48a4720ed28crow3_col9 {\n",
       "            background-color:  #2aa054;\n",
       "            color:  #000000;\n",
       "        }    #T_fbf2df18_dfc7_11e9_9879_48a4720ed28crow3_col10 {\n",
       "            background-color:  #feffbe;\n",
       "            color:  #000000;\n",
       "        }    #T_fbf2df18_dfc7_11e9_9879_48a4720ed28crow3_col11 {\n",
       "            background-color:  #006837;\n",
       "            color:  #f1f1f1;\n",
       "        }    #T_fbf2df18_dfc7_11e9_9879_48a4720ed28crow3_col12 {\n",
       "            background-color:  #fee18d;\n",
       "            color:  #000000;\n",
       "        }    #T_fbf2df18_dfc7_11e9_9879_48a4720ed28crow3_col13 {\n",
       "            background-color:  #bb1526;\n",
       "            color:  #f1f1f1;\n",
       "        }    #T_fbf2df18_dfc7_11e9_9879_48a4720ed28crow4_col0 {\n",
       "            background-color:  #bb1526;\n",
       "            color:  #f1f1f1;\n",
       "        }    #T_fbf2df18_dfc7_11e9_9879_48a4720ed28crow4_col1 {\n",
       "            background-color:  #bb1526;\n",
       "            color:  #f1f1f1;\n",
       "        }    #T_fbf2df18_dfc7_11e9_9879_48a4720ed28crow4_col2 {\n",
       "            background-color:  #ce2827;\n",
       "            color:  #f1f1f1;\n",
       "        }    #T_fbf2df18_dfc7_11e9_9879_48a4720ed28crow4_col3 {\n",
       "            background-color:  #dcf08f;\n",
       "            color:  #000000;\n",
       "        }    #T_fbf2df18_dfc7_11e9_9879_48a4720ed28crow4_col4 {\n",
       "            background-color:  #006837;\n",
       "            color:  #f1f1f1;\n",
       "        }    #T_fbf2df18_dfc7_11e9_9879_48a4720ed28crow4_col5 {\n",
       "            background-color:  #fb9d59;\n",
       "            color:  #000000;\n",
       "        }    #T_fbf2df18_dfc7_11e9_9879_48a4720ed28crow4_col6 {\n",
       "            background-color:  #66bd63;\n",
       "            color:  #000000;\n",
       "        }    #T_fbf2df18_dfc7_11e9_9879_48a4720ed28crow4_col7 {\n",
       "            background-color:  #daf08d;\n",
       "            color:  #000000;\n",
       "        }    #T_fbf2df18_dfc7_11e9_9879_48a4720ed28crow4_col8 {\n",
       "            background-color:  #cbe982;\n",
       "            color:  #000000;\n",
       "        }    #T_fbf2df18_dfc7_11e9_9879_48a4720ed28crow4_col9 {\n",
       "            background-color:  #fed07e;\n",
       "            color:  #000000;\n",
       "        }    #T_fbf2df18_dfc7_11e9_9879_48a4720ed28crow4_col10 {\n",
       "            background-color:  #66bd63;\n",
       "            color:  #000000;\n",
       "        }    #T_fbf2df18_dfc7_11e9_9879_48a4720ed28crow4_col11 {\n",
       "            background-color:  #daf08d;\n",
       "            color:  #000000;\n",
       "        }    #T_fbf2df18_dfc7_11e9_9879_48a4720ed28crow4_col12 {\n",
       "            background-color:  #fdb96a;\n",
       "            color:  #000000;\n",
       "        }    #T_fbf2df18_dfc7_11e9_9879_48a4720ed28crow4_col13 {\n",
       "            background-color:  #a70226;\n",
       "            color:  #f1f1f1;\n",
       "        }    #T_fbf2df18_dfc7_11e9_9879_48a4720ed28crow5_col0 {\n",
       "            background-color:  #b91326;\n",
       "            color:  #f1f1f1;\n",
       "        }    #T_fbf2df18_dfc7_11e9_9879_48a4720ed28crow5_col1 {\n",
       "            background-color:  #b91326;\n",
       "            color:  #f1f1f1;\n",
       "        }    #T_fbf2df18_dfc7_11e9_9879_48a4720ed28crow5_col2 {\n",
       "            background-color:  #d02927;\n",
       "            color:  #f1f1f1;\n",
       "        }    #T_fbf2df18_dfc7_11e9_9879_48a4720ed28crow5_col3 {\n",
       "            background-color:  #feda86;\n",
       "            color:  #000000;\n",
       "        }    #T_fbf2df18_dfc7_11e9_9879_48a4720ed28crow5_col4 {\n",
       "            background-color:  #fb9d59;\n",
       "            color:  #000000;\n",
       "        }    #T_fbf2df18_dfc7_11e9_9879_48a4720ed28crow5_col5 {\n",
       "            background-color:  #006837;\n",
       "            color:  #f1f1f1;\n",
       "        }    #T_fbf2df18_dfc7_11e9_9879_48a4720ed28crow5_col6 {\n",
       "            background-color:  #d83128;\n",
       "            color:  #f1f1f1;\n",
       "        }    #T_fbf2df18_dfc7_11e9_9879_48a4720ed28crow5_col7 {\n",
       "            background-color:  #fee593;\n",
       "            color:  #000000;\n",
       "        }    #T_fbf2df18_dfc7_11e9_9879_48a4720ed28crow5_col8 {\n",
       "            background-color:  #fecc7b;\n",
       "            color:  #000000;\n",
       "        }    #T_fbf2df18_dfc7_11e9_9879_48a4720ed28crow5_col9 {\n",
       "            background-color:  #f8864f;\n",
       "            color:  #000000;\n",
       "        }    #T_fbf2df18_dfc7_11e9_9879_48a4720ed28crow5_col10 {\n",
       "            background-color:  #d93429;\n",
       "            color:  #f1f1f1;\n",
       "        }    #T_fbf2df18_dfc7_11e9_9879_48a4720ed28crow5_col11 {\n",
       "            background-color:  #fee593;\n",
       "            color:  #000000;\n",
       "        }    #T_fbf2df18_dfc7_11e9_9879_48a4720ed28crow5_col12 {\n",
       "            background-color:  #dff293;\n",
       "            color:  #000000;\n",
       "        }    #T_fbf2df18_dfc7_11e9_9879_48a4720ed28crow5_col13 {\n",
       "            background-color:  #a90426;\n",
       "            color:  #f1f1f1;\n",
       "        }    #T_fbf2df18_dfc7_11e9_9879_48a4720ed28crow6_col0 {\n",
       "            background-color:  #c21c27;\n",
       "            color:  #f1f1f1;\n",
       "        }    #T_fbf2df18_dfc7_11e9_9879_48a4720ed28crow6_col1 {\n",
       "            background-color:  #c21c27;\n",
       "            color:  #f1f1f1;\n",
       "        }    #T_fbf2df18_dfc7_11e9_9879_48a4720ed28crow6_col2 {\n",
       "            background-color:  #e0422f;\n",
       "            color:  #f1f1f1;\n",
       "        }    #T_fbf2df18_dfc7_11e9_9879_48a4720ed28crow6_col3 {\n",
       "            background-color:  #feffbe;\n",
       "            color:  #000000;\n",
       "        }    #T_fbf2df18_dfc7_11e9_9879_48a4720ed28crow6_col4 {\n",
       "            background-color:  #66bd63;\n",
       "            color:  #000000;\n",
       "        }    #T_fbf2df18_dfc7_11e9_9879_48a4720ed28crow6_col5 {\n",
       "            background-color:  #d83128;\n",
       "            color:  #f1f1f1;\n",
       "        }    #T_fbf2df18_dfc7_11e9_9879_48a4720ed28crow6_col6 {\n",
       "            background-color:  #006837;\n",
       "            color:  #f1f1f1;\n",
       "        }    #T_fbf2df18_dfc7_11e9_9879_48a4720ed28crow6_col7 {\n",
       "            background-color:  #fffcba;\n",
       "            color:  #000000;\n",
       "        }    #T_fbf2df18_dfc7_11e9_9879_48a4720ed28crow6_col8 {\n",
       "            background-color:  #fafdb8;\n",
       "            color:  #000000;\n",
       "        }    #T_fbf2df18_dfc7_11e9_9879_48a4720ed28crow6_col9 {\n",
       "            background-color:  #e54e35;\n",
       "            color:  #000000;\n",
       "        }    #T_fbf2df18_dfc7_11e9_9879_48a4720ed28crow6_col10 {\n",
       "            background-color:  #006837;\n",
       "            color:  #f1f1f1;\n",
       "        }    #T_fbf2df18_dfc7_11e9_9879_48a4720ed28crow6_col11 {\n",
       "            background-color:  #fffcba;\n",
       "            color:  #000000;\n",
       "        }    #T_fbf2df18_dfc7_11e9_9879_48a4720ed28crow6_col12 {\n",
       "            background-color:  #d42d27;\n",
       "            color:  #f1f1f1;\n",
       "        }    #T_fbf2df18_dfc7_11e9_9879_48a4720ed28crow6_col13 {\n",
       "            background-color:  #c82227;\n",
       "            color:  #f1f1f1;\n",
       "        }    #T_fbf2df18_dfc7_11e9_9879_48a4720ed28crow7_col0 {\n",
       "            background-color:  #bb1526;\n",
       "            color:  #f1f1f1;\n",
       "        }    #T_fbf2df18_dfc7_11e9_9879_48a4720ed28crow7_col1 {\n",
       "            background-color:  #bb1526;\n",
       "            color:  #f1f1f1;\n",
       "        }    #T_fbf2df18_dfc7_11e9_9879_48a4720ed28crow7_col2 {\n",
       "            background-color:  #e54e35;\n",
       "            color:  #000000;\n",
       "        }    #T_fbf2df18_dfc7_11e9_9879_48a4720ed28crow7_col3 {\n",
       "            background-color:  #006837;\n",
       "            color:  #f1f1f1;\n",
       "        }    #T_fbf2df18_dfc7_11e9_9879_48a4720ed28crow7_col4 {\n",
       "            background-color:  #daf08d;\n",
       "            color:  #000000;\n",
       "        }    #T_fbf2df18_dfc7_11e9_9879_48a4720ed28crow7_col5 {\n",
       "            background-color:  #fee593;\n",
       "            color:  #000000;\n",
       "        }    #T_fbf2df18_dfc7_11e9_9879_48a4720ed28crow7_col6 {\n",
       "            background-color:  #fffcba;\n",
       "            color:  #000000;\n",
       "        }    #T_fbf2df18_dfc7_11e9_9879_48a4720ed28crow7_col7 {\n",
       "            background-color:  #006837;\n",
       "            color:  #f1f1f1;\n",
       "        }    #T_fbf2df18_dfc7_11e9_9879_48a4720ed28crow7_col8 {\n",
       "            background-color:  #026c39;\n",
       "            color:  #f1f1f1;\n",
       "        }    #T_fbf2df18_dfc7_11e9_9879_48a4720ed28crow7_col9 {\n",
       "            background-color:  #30a356;\n",
       "            color:  #000000;\n",
       "        }    #T_fbf2df18_dfc7_11e9_9879_48a4720ed28crow7_col10 {\n",
       "            background-color:  #fffdbc;\n",
       "            color:  #000000;\n",
       "        }    #T_fbf2df18_dfc7_11e9_9879_48a4720ed28crow7_col11 {\n",
       "            background-color:  #006837;\n",
       "            color:  #f1f1f1;\n",
       "        }    #T_fbf2df18_dfc7_11e9_9879_48a4720ed28crow7_col12 {\n",
       "            background-color:  #fff2aa;\n",
       "            color:  #000000;\n",
       "        }    #T_fbf2df18_dfc7_11e9_9879_48a4720ed28crow7_col13 {\n",
       "            background-color:  #be1827;\n",
       "            color:  #f1f1f1;\n",
       "        }    #T_fbf2df18_dfc7_11e9_9879_48a4720ed28crow8_col0 {\n",
       "            background-color:  #be1827;\n",
       "            color:  #f1f1f1;\n",
       "        }    #T_fbf2df18_dfc7_11e9_9879_48a4720ed28crow8_col1 {\n",
       "            background-color:  #c01a27;\n",
       "            color:  #f1f1f1;\n",
       "        }    #T_fbf2df18_dfc7_11e9_9879_48a4720ed28crow8_col2 {\n",
       "            background-color:  #ea5739;\n",
       "            color:  #000000;\n",
       "        }    #T_fbf2df18_dfc7_11e9_9879_48a4720ed28crow8_col3 {\n",
       "            background-color:  #026c39;\n",
       "            color:  #f1f1f1;\n",
       "        }    #T_fbf2df18_dfc7_11e9_9879_48a4720ed28crow8_col4 {\n",
       "            background-color:  #cbe982;\n",
       "            color:  #000000;\n",
       "        }    #T_fbf2df18_dfc7_11e9_9879_48a4720ed28crow8_col5 {\n",
       "            background-color:  #fecc7b;\n",
       "            color:  #000000;\n",
       "        }    #T_fbf2df18_dfc7_11e9_9879_48a4720ed28crow8_col6 {\n",
       "            background-color:  #fafdb8;\n",
       "            color:  #000000;\n",
       "        }    #T_fbf2df18_dfc7_11e9_9879_48a4720ed28crow8_col7 {\n",
       "            background-color:  #026c39;\n",
       "            color:  #f1f1f1;\n",
       "        }    #T_fbf2df18_dfc7_11e9_9879_48a4720ed28crow8_col8 {\n",
       "            background-color:  #006837;\n",
       "            color:  #f1f1f1;\n",
       "        }    #T_fbf2df18_dfc7_11e9_9879_48a4720ed28crow8_col9 {\n",
       "            background-color:  #219c52;\n",
       "            color:  #000000;\n",
       "        }    #T_fbf2df18_dfc7_11e9_9879_48a4720ed28crow8_col10 {\n",
       "            background-color:  #fafdb8;\n",
       "            color:  #000000;\n",
       "        }    #T_fbf2df18_dfc7_11e9_9879_48a4720ed28crow8_col11 {\n",
       "            background-color:  #026c39;\n",
       "            color:  #f1f1f1;\n",
       "        }    #T_fbf2df18_dfc7_11e9_9879_48a4720ed28crow8_col12 {\n",
       "            background-color:  #fee28f;\n",
       "            color:  #000000;\n",
       "        }    #T_fbf2df18_dfc7_11e9_9879_48a4720ed28crow8_col13 {\n",
       "            background-color:  #be1827;\n",
       "            color:  #f1f1f1;\n",
       "        }    #T_fbf2df18_dfc7_11e9_9879_48a4720ed28crow9_col0 {\n",
       "            background-color:  #c62027;\n",
       "            color:  #f1f1f1;\n",
       "        }    #T_fbf2df18_dfc7_11e9_9879_48a4720ed28crow9_col1 {\n",
       "            background-color:  #c62027;\n",
       "            color:  #f1f1f1;\n",
       "        }    #T_fbf2df18_dfc7_11e9_9879_48a4720ed28crow9_col2 {\n",
       "            background-color:  #ec5c3b;\n",
       "            color:  #000000;\n",
       "        }    #T_fbf2df18_dfc7_11e9_9879_48a4720ed28crow9_col3 {\n",
       "            background-color:  #2aa054;\n",
       "            color:  #000000;\n",
       "        }    #T_fbf2df18_dfc7_11e9_9879_48a4720ed28crow9_col4 {\n",
       "            background-color:  #fed07e;\n",
       "            color:  #000000;\n",
       "        }    #T_fbf2df18_dfc7_11e9_9879_48a4720ed28crow9_col5 {\n",
       "            background-color:  #f8864f;\n",
       "            color:  #000000;\n",
       "        }    #T_fbf2df18_dfc7_11e9_9879_48a4720ed28crow9_col6 {\n",
       "            background-color:  #e54e35;\n",
       "            color:  #000000;\n",
       "        }    #T_fbf2df18_dfc7_11e9_9879_48a4720ed28crow9_col7 {\n",
       "            background-color:  #30a356;\n",
       "            color:  #000000;\n",
       "        }    #T_fbf2df18_dfc7_11e9_9879_48a4720ed28crow9_col8 {\n",
       "            background-color:  #219c52;\n",
       "            color:  #000000;\n",
       "        }    #T_fbf2df18_dfc7_11e9_9879_48a4720ed28crow9_col9 {\n",
       "            background-color:  #006837;\n",
       "            color:  #f1f1f1;\n",
       "        }    #T_fbf2df18_dfc7_11e9_9879_48a4720ed28crow9_col10 {\n",
       "            background-color:  #e54e35;\n",
       "            color:  #000000;\n",
       "        }    #T_fbf2df18_dfc7_11e9_9879_48a4720ed28crow9_col11 {\n",
       "            background-color:  #30a356;\n",
       "            color:  #000000;\n",
       "        }    #T_fbf2df18_dfc7_11e9_9879_48a4720ed28crow9_col12 {\n",
       "            background-color:  #fba05b;\n",
       "            color:  #000000;\n",
       "        }    #T_fbf2df18_dfc7_11e9_9879_48a4720ed28crow9_col13 {\n",
       "            background-color:  #bb1526;\n",
       "            color:  #f1f1f1;\n",
       "        }    #T_fbf2df18_dfc7_11e9_9879_48a4720ed28crow10_col0 {\n",
       "            background-color:  #c21c27;\n",
       "            color:  #f1f1f1;\n",
       "        }    #T_fbf2df18_dfc7_11e9_9879_48a4720ed28crow10_col1 {\n",
       "            background-color:  #c21c27;\n",
       "            color:  #f1f1f1;\n",
       "        }    #T_fbf2df18_dfc7_11e9_9879_48a4720ed28crow10_col2 {\n",
       "            background-color:  #de402e;\n",
       "            color:  #f1f1f1;\n",
       "        }    #T_fbf2df18_dfc7_11e9_9879_48a4720ed28crow10_col3 {\n",
       "            background-color:  #feffbe;\n",
       "            color:  #000000;\n",
       "        }    #T_fbf2df18_dfc7_11e9_9879_48a4720ed28crow10_col4 {\n",
       "            background-color:  #66bd63;\n",
       "            color:  #000000;\n",
       "        }    #T_fbf2df18_dfc7_11e9_9879_48a4720ed28crow10_col5 {\n",
       "            background-color:  #d93429;\n",
       "            color:  #f1f1f1;\n",
       "        }    #T_fbf2df18_dfc7_11e9_9879_48a4720ed28crow10_col6 {\n",
       "            background-color:  #006837;\n",
       "            color:  #f1f1f1;\n",
       "        }    #T_fbf2df18_dfc7_11e9_9879_48a4720ed28crow10_col7 {\n",
       "            background-color:  #fffdbc;\n",
       "            color:  #000000;\n",
       "        }    #T_fbf2df18_dfc7_11e9_9879_48a4720ed28crow10_col8 {\n",
       "            background-color:  #fafdb8;\n",
       "            color:  #000000;\n",
       "        }    #T_fbf2df18_dfc7_11e9_9879_48a4720ed28crow10_col9 {\n",
       "            background-color:  #e54e35;\n",
       "            color:  #000000;\n",
       "        }    #T_fbf2df18_dfc7_11e9_9879_48a4720ed28crow10_col10 {\n",
       "            background-color:  #006837;\n",
       "            color:  #f1f1f1;\n",
       "        }    #T_fbf2df18_dfc7_11e9_9879_48a4720ed28crow10_col11 {\n",
       "            background-color:  #fffdbc;\n",
       "            color:  #000000;\n",
       "        }    #T_fbf2df18_dfc7_11e9_9879_48a4720ed28crow10_col12 {\n",
       "            background-color:  #d62f27;\n",
       "            color:  #f1f1f1;\n",
       "        }    #T_fbf2df18_dfc7_11e9_9879_48a4720ed28crow10_col13 {\n",
       "            background-color:  #c82227;\n",
       "            color:  #f1f1f1;\n",
       "        }    #T_fbf2df18_dfc7_11e9_9879_48a4720ed28crow11_col0 {\n",
       "            background-color:  #bb1526;\n",
       "            color:  #f1f1f1;\n",
       "        }    #T_fbf2df18_dfc7_11e9_9879_48a4720ed28crow11_col1 {\n",
       "            background-color:  #bb1526;\n",
       "            color:  #f1f1f1;\n",
       "        }    #T_fbf2df18_dfc7_11e9_9879_48a4720ed28crow11_col2 {\n",
       "            background-color:  #e54e35;\n",
       "            color:  #000000;\n",
       "        }    #T_fbf2df18_dfc7_11e9_9879_48a4720ed28crow11_col3 {\n",
       "            background-color:  #006837;\n",
       "            color:  #f1f1f1;\n",
       "        }    #T_fbf2df18_dfc7_11e9_9879_48a4720ed28crow11_col4 {\n",
       "            background-color:  #daf08d;\n",
       "            color:  #000000;\n",
       "        }    #T_fbf2df18_dfc7_11e9_9879_48a4720ed28crow11_col5 {\n",
       "            background-color:  #fee593;\n",
       "            color:  #000000;\n",
       "        }    #T_fbf2df18_dfc7_11e9_9879_48a4720ed28crow11_col6 {\n",
       "            background-color:  #fffcba;\n",
       "            color:  #000000;\n",
       "        }    #T_fbf2df18_dfc7_11e9_9879_48a4720ed28crow11_col7 {\n",
       "            background-color:  #006837;\n",
       "            color:  #f1f1f1;\n",
       "        }    #T_fbf2df18_dfc7_11e9_9879_48a4720ed28crow11_col8 {\n",
       "            background-color:  #026c39;\n",
       "            color:  #f1f1f1;\n",
       "        }    #T_fbf2df18_dfc7_11e9_9879_48a4720ed28crow11_col9 {\n",
       "            background-color:  #30a356;\n",
       "            color:  #000000;\n",
       "        }    #T_fbf2df18_dfc7_11e9_9879_48a4720ed28crow11_col10 {\n",
       "            background-color:  #fffdbc;\n",
       "            color:  #000000;\n",
       "        }    #T_fbf2df18_dfc7_11e9_9879_48a4720ed28crow11_col11 {\n",
       "            background-color:  #006837;\n",
       "            color:  #f1f1f1;\n",
       "        }    #T_fbf2df18_dfc7_11e9_9879_48a4720ed28crow11_col12 {\n",
       "            background-color:  #fff2aa;\n",
       "            color:  #000000;\n",
       "        }    #T_fbf2df18_dfc7_11e9_9879_48a4720ed28crow11_col13 {\n",
       "            background-color:  #be1827;\n",
       "            color:  #f1f1f1;\n",
       "        }    #T_fbf2df18_dfc7_11e9_9879_48a4720ed28crow12_col0 {\n",
       "            background-color:  #af0926;\n",
       "            color:  #f1f1f1;\n",
       "        }    #T_fbf2df18_dfc7_11e9_9879_48a4720ed28crow12_col1 {\n",
       "            background-color:  #b71126;\n",
       "            color:  #f1f1f1;\n",
       "        }    #T_fbf2df18_dfc7_11e9_9879_48a4720ed28crow12_col2 {\n",
       "            background-color:  #b91326;\n",
       "            color:  #f1f1f1;\n",
       "        }    #T_fbf2df18_dfc7_11e9_9879_48a4720ed28crow12_col3 {\n",
       "            background-color:  #fee18d;\n",
       "            color:  #000000;\n",
       "        }    #T_fbf2df18_dfc7_11e9_9879_48a4720ed28crow12_col4 {\n",
       "            background-color:  #fdb96a;\n",
       "            color:  #000000;\n",
       "        }    #T_fbf2df18_dfc7_11e9_9879_48a4720ed28crow12_col5 {\n",
       "            background-color:  #dff293;\n",
       "            color:  #000000;\n",
       "        }    #T_fbf2df18_dfc7_11e9_9879_48a4720ed28crow12_col6 {\n",
       "            background-color:  #d42d27;\n",
       "            color:  #f1f1f1;\n",
       "        }    #T_fbf2df18_dfc7_11e9_9879_48a4720ed28crow12_col7 {\n",
       "            background-color:  #fff2aa;\n",
       "            color:  #000000;\n",
       "        }    #T_fbf2df18_dfc7_11e9_9879_48a4720ed28crow12_col8 {\n",
       "            background-color:  #fee28f;\n",
       "            color:  #000000;\n",
       "        }    #T_fbf2df18_dfc7_11e9_9879_48a4720ed28crow12_col9 {\n",
       "            background-color:  #fba05b;\n",
       "            color:  #000000;\n",
       "        }    #T_fbf2df18_dfc7_11e9_9879_48a4720ed28crow12_col10 {\n",
       "            background-color:  #d62f27;\n",
       "            color:  #f1f1f1;\n",
       "        }    #T_fbf2df18_dfc7_11e9_9879_48a4720ed28crow12_col11 {\n",
       "            background-color:  #fff2aa;\n",
       "            color:  #000000;\n",
       "        }    #T_fbf2df18_dfc7_11e9_9879_48a4720ed28crow12_col12 {\n",
       "            background-color:  #006837;\n",
       "            color:  #f1f1f1;\n",
       "        }    #T_fbf2df18_dfc7_11e9_9879_48a4720ed28crow12_col13 {\n",
       "            background-color:  #e44c34;\n",
       "            color:  #000000;\n",
       "        }    #T_fbf2df18_dfc7_11e9_9879_48a4720ed28crow13_col0 {\n",
       "            background-color:  #f7814c;\n",
       "            color:  #000000;\n",
       "        }    #T_fbf2df18_dfc7_11e9_9879_48a4720ed28crow13_col1 {\n",
       "            background-color:  #fdc372;\n",
       "            color:  #000000;\n",
       "        }    #T_fbf2df18_dfc7_11e9_9879_48a4720ed28crow13_col2 {\n",
       "            background-color:  #a50026;\n",
       "            color:  #f1f1f1;\n",
       "        }    #T_fbf2df18_dfc7_11e9_9879_48a4720ed28crow13_col3 {\n",
       "            background-color:  #bb1526;\n",
       "            color:  #f1f1f1;\n",
       "        }    #T_fbf2df18_dfc7_11e9_9879_48a4720ed28crow13_col4 {\n",
       "            background-color:  #a70226;\n",
       "            color:  #f1f1f1;\n",
       "        }    #T_fbf2df18_dfc7_11e9_9879_48a4720ed28crow13_col5 {\n",
       "            background-color:  #a90426;\n",
       "            color:  #f1f1f1;\n",
       "        }    #T_fbf2df18_dfc7_11e9_9879_48a4720ed28crow13_col6 {\n",
       "            background-color:  #c82227;\n",
       "            color:  #f1f1f1;\n",
       "        }    #T_fbf2df18_dfc7_11e9_9879_48a4720ed28crow13_col7 {\n",
       "            background-color:  #be1827;\n",
       "            color:  #f1f1f1;\n",
       "        }    #T_fbf2df18_dfc7_11e9_9879_48a4720ed28crow13_col8 {\n",
       "            background-color:  #be1827;\n",
       "            color:  #f1f1f1;\n",
       "        }    #T_fbf2df18_dfc7_11e9_9879_48a4720ed28crow13_col9 {\n",
       "            background-color:  #bb1526;\n",
       "            color:  #f1f1f1;\n",
       "        }    #T_fbf2df18_dfc7_11e9_9879_48a4720ed28crow13_col10 {\n",
       "            background-color:  #c82227;\n",
       "            color:  #f1f1f1;\n",
       "        }    #T_fbf2df18_dfc7_11e9_9879_48a4720ed28crow13_col11 {\n",
       "            background-color:  #be1827;\n",
       "            color:  #f1f1f1;\n",
       "        }    #T_fbf2df18_dfc7_11e9_9879_48a4720ed28crow13_col12 {\n",
       "            background-color:  #e44c34;\n",
       "            color:  #000000;\n",
       "        }    #T_fbf2df18_dfc7_11e9_9879_48a4720ed28crow13_col13 {\n",
       "            background-color:  #006837;\n",
       "            color:  #f1f1f1;\n",
       "        }</style><table id=\"T_fbf2df18_dfc7_11e9_9879_48a4720ed28c\" ><thead>    <tr>        <th class=\"blank level0\" ></th>        <th class=\"col_heading level0 col0\" >URL_LENGTH</th>        <th class=\"col_heading level0 col1\" >NUMBER_SPECIAL_CHARACTERS</th>        <th class=\"col_heading level0 col2\" >CONTENT_LENGTH</th>        <th class=\"col_heading level0 col3\" >TCP_CONVERSATION_EXCHANGE</th>        <th class=\"col_heading level0 col4\" >DIST_REMOTE_TCP_PORT</th>        <th class=\"col_heading level0 col5\" >REMOTE_IPS</th>        <th class=\"col_heading level0 col6\" >APP_BYTES</th>        <th class=\"col_heading level0 col7\" >SOURCE_APP_PACKETS</th>        <th class=\"col_heading level0 col8\" >REMOTE_APP_PACKETS</th>        <th class=\"col_heading level0 col9\" >SOURCE_APP_BYTES</th>        <th class=\"col_heading level0 col10\" >REMOTE_APP_BYTES</th>        <th class=\"col_heading level0 col11\" >APP_PACKETS</th>        <th class=\"col_heading level0 col12\" >DNS_QUERY_TIMES</th>        <th class=\"col_heading level0 col13\" >Type</th>    </tr></thead><tbody>\n",
       "                <tr>\n",
       "                        <th id=\"T_fbf2df18_dfc7_11e9_9879_48a4720ed28clevel0_row0\" class=\"row_heading level0 row0\" >URL_LENGTH</th>\n",
       "                        <td id=\"T_fbf2df18_dfc7_11e9_9879_48a4720ed28crow0_col0\" class=\"data row0 col0\" >1</td>\n",
       "                        <td id=\"T_fbf2df18_dfc7_11e9_9879_48a4720ed28crow0_col1\" class=\"data row0 col1\" >0.92</td>\n",
       "                        <td id=\"T_fbf2df18_dfc7_11e9_9879_48a4720ed28crow0_col2\" class=\"data row0 col2\" >0.13</td>\n",
       "                        <td id=\"T_fbf2df18_dfc7_11e9_9879_48a4720ed28crow0_col3\" class=\"data row0 col3\" >-0.038</td>\n",
       "                        <td id=\"T_fbf2df18_dfc7_11e9_9879_48a4720ed28crow0_col4\" class=\"data row0 col4\" >-0.04</td>\n",
       "                        <td id=\"T_fbf2df18_dfc7_11e9_9879_48a4720ed28crow0_col5\" class=\"data row0 col5\" >-0.046</td>\n",
       "                        <td id=\"T_fbf2df18_dfc7_11e9_9879_48a4720ed28crow0_col6\" class=\"data row0 col6\" >-0.026</td>\n",
       "                        <td id=\"T_fbf2df18_dfc7_11e9_9879_48a4720ed28crow0_col7\" class=\"data row0 col7\" >-0.042</td>\n",
       "                        <td id=\"T_fbf2df18_dfc7_11e9_9879_48a4720ed28crow0_col8\" class=\"data row0 col8\" >-0.034</td>\n",
       "                        <td id=\"T_fbf2df18_dfc7_11e9_9879_48a4720ed28crow0_col9\" class=\"data row0 col9\" >-0.015</td>\n",
       "                        <td id=\"T_fbf2df18_dfc7_11e9_9879_48a4720ed28crow0_col10\" class=\"data row0 col10\" >-0.027</td>\n",
       "                        <td id=\"T_fbf2df18_dfc7_11e9_9879_48a4720ed28crow0_col11\" class=\"data row0 col11\" >-0.042</td>\n",
       "                        <td id=\"T_fbf2df18_dfc7_11e9_9879_48a4720ed28crow0_col12\" class=\"data row0 col12\" >-0.069</td>\n",
       "                        <td id=\"T_fbf2df18_dfc7_11e9_9879_48a4720ed28crow0_col13\" class=\"data row0 col13\" >0.16</td>\n",
       "            </tr>\n",
       "            <tr>\n",
       "                        <th id=\"T_fbf2df18_dfc7_11e9_9879_48a4720ed28clevel0_row1\" class=\"row_heading level0 row1\" >NUMBER_SPECIAL_CHARACTERS</th>\n",
       "                        <td id=\"T_fbf2df18_dfc7_11e9_9879_48a4720ed28crow1_col0\" class=\"data row1 col0\" >0.92</td>\n",
       "                        <td id=\"T_fbf2df18_dfc7_11e9_9879_48a4720ed28crow1_col1\" class=\"data row1 col1\" >1</td>\n",
       "                        <td id=\"T_fbf2df18_dfc7_11e9_9879_48a4720ed28crow1_col2\" class=\"data row1 col2\" >0.21</td>\n",
       "                        <td id=\"T_fbf2df18_dfc7_11e9_9879_48a4720ed28crow1_col3\" class=\"data row1 col3\" >-0.037</td>\n",
       "                        <td id=\"T_fbf2df18_dfc7_11e9_9879_48a4720ed28crow1_col4\" class=\"data row1 col4\" >-0.043</td>\n",
       "                        <td id=\"T_fbf2df18_dfc7_11e9_9879_48a4720ed28crow1_col5\" class=\"data row1 col5\" >-0.047</td>\n",
       "                        <td id=\"T_fbf2df18_dfc7_11e9_9879_48a4720ed28crow1_col6\" class=\"data row1 col6\" >-0.024</td>\n",
       "                        <td id=\"T_fbf2df18_dfc7_11e9_9879_48a4720ed28crow1_col7\" class=\"data row1 col7\" >-0.04</td>\n",
       "                        <td id=\"T_fbf2df18_dfc7_11e9_9879_48a4720ed28crow1_col8\" class=\"data row1 col8\" >-0.031</td>\n",
       "                        <td id=\"T_fbf2df18_dfc7_11e9_9879_48a4720ed28crow1_col9\" class=\"data row1 col9\" >-0.014</td>\n",
       "                        <td id=\"T_fbf2df18_dfc7_11e9_9879_48a4720ed28crow1_col10\" class=\"data row1 col10\" >-0.024</td>\n",
       "                        <td id=\"T_fbf2df18_dfc7_11e9_9879_48a4720ed28crow1_col11\" class=\"data row1 col11\" >-0.04</td>\n",
       "                        <td id=\"T_fbf2df18_dfc7_11e9_9879_48a4720ed28crow1_col12\" class=\"data row1 col12\" >-0.05</td>\n",
       "                        <td id=\"T_fbf2df18_dfc7_11e9_9879_48a4720ed28crow1_col13\" class=\"data row1 col13\" >0.28</td>\n",
       "            </tr>\n",
       "            <tr>\n",
       "                        <th id=\"T_fbf2df18_dfc7_11e9_9879_48a4720ed28clevel0_row2\" class=\"row_heading level0 row2\" >CONTENT_LENGTH</th>\n",
       "                        <td id=\"T_fbf2df18_dfc7_11e9_9879_48a4720ed28crow2_col0\" class=\"data row2 col0\" >0.13</td>\n",
       "                        <td id=\"T_fbf2df18_dfc7_11e9_9879_48a4720ed28crow2_col1\" class=\"data row2 col1\" >0.21</td>\n",
       "                        <td id=\"T_fbf2df18_dfc7_11e9_9879_48a4720ed28crow2_col2\" class=\"data row2 col2\" >1</td>\n",
       "                        <td id=\"T_fbf2df18_dfc7_11e9_9879_48a4720ed28crow2_col3\" class=\"data row2 col3\" >0.078</td>\n",
       "                        <td id=\"T_fbf2df18_dfc7_11e9_9879_48a4720ed28crow2_col4\" class=\"data row2 col4\" >-0.00038</td>\n",
       "                        <td id=\"T_fbf2df18_dfc7_11e9_9879_48a4720ed28crow2_col5\" class=\"data row2 col5\" >0.0048</td>\n",
       "                        <td id=\"T_fbf2df18_dfc7_11e9_9879_48a4720ed28crow2_col6\" class=\"data row2 col6\" >0.051</td>\n",
       "                        <td id=\"T_fbf2df18_dfc7_11e9_9879_48a4720ed28crow2_col7\" class=\"data row2 col7\" >0.074</td>\n",
       "                        <td id=\"T_fbf2df18_dfc7_11e9_9879_48a4720ed28crow2_col8\" class=\"data row2 col8\" >0.091</td>\n",
       "                        <td id=\"T_fbf2df18_dfc7_11e9_9879_48a4720ed28crow2_col9\" class=\"data row2 col9\" >0.1</td>\n",
       "                        <td id=\"T_fbf2df18_dfc7_11e9_9879_48a4720ed28crow2_col10\" class=\"data row2 col10\" >0.048</td>\n",
       "                        <td id=\"T_fbf2df18_dfc7_11e9_9879_48a4720ed28crow2_col11\" class=\"data row2 col11\" >0.074</td>\n",
       "                        <td id=\"T_fbf2df18_dfc7_11e9_9879_48a4720ed28crow2_col12\" class=\"data row2 col12\" >-0.046</td>\n",
       "                        <td id=\"T_fbf2df18_dfc7_11e9_9879_48a4720ed28crow2_col13\" class=\"data row2 col13\" >-0.091</td>\n",
       "            </tr>\n",
       "            <tr>\n",
       "                        <th id=\"T_fbf2df18_dfc7_11e9_9879_48a4720ed28clevel0_row3\" class=\"row_heading level0 row3\" >TCP_CONVERSATION_EXCHANGE</th>\n",
       "                        <td id=\"T_fbf2df18_dfc7_11e9_9879_48a4720ed28crow3_col0\" class=\"data row3 col0\" >-0.038</td>\n",
       "                        <td id=\"T_fbf2df18_dfc7_11e9_9879_48a4720ed28crow3_col1\" class=\"data row3 col1\" >-0.037</td>\n",
       "                        <td id=\"T_fbf2df18_dfc7_11e9_9879_48a4720ed28crow3_col2\" class=\"data row3 col2\" >0.078</td>\n",
       "                        <td id=\"T_fbf2df18_dfc7_11e9_9879_48a4720ed28crow3_col3\" class=\"data row3 col3\" >1</td>\n",
       "                        <td id=\"T_fbf2df18_dfc7_11e9_9879_48a4720ed28crow3_col4\" class=\"data row3 col4\" >0.56</td>\n",
       "                        <td id=\"T_fbf2df18_dfc7_11e9_9879_48a4720ed28crow3_col5\" class=\"data row3 col5\" >0.33</td>\n",
       "                        <td id=\"T_fbf2df18_dfc7_11e9_9879_48a4720ed28crow3_col6\" class=\"data row3 col6\" >0.46</td>\n",
       "                        <td id=\"T_fbf2df18_dfc7_11e9_9879_48a4720ed28crow3_col7\" class=\"data row3 col7\" >1</td>\n",
       "                        <td id=\"T_fbf2df18_dfc7_11e9_9879_48a4720ed28crow3_col8\" class=\"data row3 col8\" >0.99</td>\n",
       "                        <td id=\"T_fbf2df18_dfc7_11e9_9879_48a4720ed28crow3_col9\" class=\"data row3 col9\" >0.87</td>\n",
       "                        <td id=\"T_fbf2df18_dfc7_11e9_9879_48a4720ed28crow3_col10\" class=\"data row3 col10\" >0.46</td>\n",
       "                        <td id=\"T_fbf2df18_dfc7_11e9_9879_48a4720ed28crow3_col11\" class=\"data row3 col11\" >1</td>\n",
       "                        <td id=\"T_fbf2df18_dfc7_11e9_9879_48a4720ed28crow3_col12\" class=\"data row3 col12\" >0.35</td>\n",
       "                        <td id=\"T_fbf2df18_dfc7_11e9_9879_48a4720ed28crow3_col13\" class=\"data row3 col13\" >-0.04</td>\n",
       "            </tr>\n",
       "            <tr>\n",
       "                        <th id=\"T_fbf2df18_dfc7_11e9_9879_48a4720ed28clevel0_row4\" class=\"row_heading level0 row4\" >DIST_REMOTE_TCP_PORT</th>\n",
       "                        <td id=\"T_fbf2df18_dfc7_11e9_9879_48a4720ed28crow4_col0\" class=\"data row4 col0\" >-0.04</td>\n",
       "                        <td id=\"T_fbf2df18_dfc7_11e9_9879_48a4720ed28crow4_col1\" class=\"data row4 col1\" >-0.043</td>\n",
       "                        <td id=\"T_fbf2df18_dfc7_11e9_9879_48a4720ed28crow4_col2\" class=\"data row4 col2\" >-0.00038</td>\n",
       "                        <td id=\"T_fbf2df18_dfc7_11e9_9879_48a4720ed28crow4_col3\" class=\"data row4 col3\" >0.56</td>\n",
       "                        <td id=\"T_fbf2df18_dfc7_11e9_9879_48a4720ed28crow4_col4\" class=\"data row4 col4\" >1</td>\n",
       "                        <td id=\"T_fbf2df18_dfc7_11e9_9879_48a4720ed28crow4_col5\" class=\"data row4 col5\" >0.21</td>\n",
       "                        <td id=\"T_fbf2df18_dfc7_11e9_9879_48a4720ed28crow4_col6\" class=\"data row4 col6\" >0.78</td>\n",
       "                        <td id=\"T_fbf2df18_dfc7_11e9_9879_48a4720ed28crow4_col7\" class=\"data row4 col7\" >0.56</td>\n",
       "                        <td id=\"T_fbf2df18_dfc7_11e9_9879_48a4720ed28crow4_col8\" class=\"data row4 col8\" >0.59</td>\n",
       "                        <td id=\"T_fbf2df18_dfc7_11e9_9879_48a4720ed28crow4_col9\" class=\"data row4 col9\" >0.31</td>\n",
       "                        <td id=\"T_fbf2df18_dfc7_11e9_9879_48a4720ed28crow4_col10\" class=\"data row4 col10\" >0.78</td>\n",
       "                        <td id=\"T_fbf2df18_dfc7_11e9_9879_48a4720ed28crow4_col11\" class=\"data row4 col11\" >0.56</td>\n",
       "                        <td id=\"T_fbf2df18_dfc7_11e9_9879_48a4720ed28crow4_col12\" class=\"data row4 col12\" >0.26</td>\n",
       "                        <td id=\"T_fbf2df18_dfc7_11e9_9879_48a4720ed28crow4_col13\" class=\"data row4 col13\" >-0.083</td>\n",
       "            </tr>\n",
       "            <tr>\n",
       "                        <th id=\"T_fbf2df18_dfc7_11e9_9879_48a4720ed28clevel0_row5\" class=\"row_heading level0 row5\" >REMOTE_IPS</th>\n",
       "                        <td id=\"T_fbf2df18_dfc7_11e9_9879_48a4720ed28crow5_col0\" class=\"data row5 col0\" >-0.046</td>\n",
       "                        <td id=\"T_fbf2df18_dfc7_11e9_9879_48a4720ed28crow5_col1\" class=\"data row5 col1\" >-0.047</td>\n",
       "                        <td id=\"T_fbf2df18_dfc7_11e9_9879_48a4720ed28crow5_col2\" class=\"data row5 col2\" >0.0048</td>\n",
       "                        <td id=\"T_fbf2df18_dfc7_11e9_9879_48a4720ed28crow5_col3\" class=\"data row5 col3\" >0.33</td>\n",
       "                        <td id=\"T_fbf2df18_dfc7_11e9_9879_48a4720ed28crow5_col4\" class=\"data row5 col4\" >0.21</td>\n",
       "                        <td id=\"T_fbf2df18_dfc7_11e9_9879_48a4720ed28crow5_col5\" class=\"data row5 col5\" >1</td>\n",
       "                        <td id=\"T_fbf2df18_dfc7_11e9_9879_48a4720ed28crow5_col6\" class=\"data row5 col6\" >0.023</td>\n",
       "                        <td id=\"T_fbf2df18_dfc7_11e9_9879_48a4720ed28crow5_col7\" class=\"data row5 col7\" >0.36</td>\n",
       "                        <td id=\"T_fbf2df18_dfc7_11e9_9879_48a4720ed28crow5_col8\" class=\"data row5 col8\" >0.3</td>\n",
       "                        <td id=\"T_fbf2df18_dfc7_11e9_9879_48a4720ed28crow5_col9\" class=\"data row5 col9\" >0.17</td>\n",
       "                        <td id=\"T_fbf2df18_dfc7_11e9_9879_48a4720ed28crow5_col10\" class=\"data row5 col10\" >0.025</td>\n",
       "                        <td id=\"T_fbf2df18_dfc7_11e9_9879_48a4720ed28crow5_col11\" class=\"data row5 col11\" >0.36</td>\n",
       "                        <td id=\"T_fbf2df18_dfc7_11e9_9879_48a4720ed28crow5_col12\" class=\"data row5 col12\" >0.55</td>\n",
       "                        <td id=\"T_fbf2df18_dfc7_11e9_9879_48a4720ed28crow5_col13\" class=\"data row5 col13\" >-0.079</td>\n",
       "            </tr>\n",
       "            <tr>\n",
       "                        <th id=\"T_fbf2df18_dfc7_11e9_9879_48a4720ed28clevel0_row6\" class=\"row_heading level0 row6\" >APP_BYTES</th>\n",
       "                        <td id=\"T_fbf2df18_dfc7_11e9_9879_48a4720ed28crow6_col0\" class=\"data row6 col0\" >-0.026</td>\n",
       "                        <td id=\"T_fbf2df18_dfc7_11e9_9879_48a4720ed28crow6_col1\" class=\"data row6 col1\" >-0.024</td>\n",
       "                        <td id=\"T_fbf2df18_dfc7_11e9_9879_48a4720ed28crow6_col2\" class=\"data row6 col2\" >0.051</td>\n",
       "                        <td id=\"T_fbf2df18_dfc7_11e9_9879_48a4720ed28crow6_col3\" class=\"data row6 col3\" >0.46</td>\n",
       "                        <td id=\"T_fbf2df18_dfc7_11e9_9879_48a4720ed28crow6_col4\" class=\"data row6 col4\" >0.78</td>\n",
       "                        <td id=\"T_fbf2df18_dfc7_11e9_9879_48a4720ed28crow6_col5\" class=\"data row6 col5\" >0.023</td>\n",
       "                        <td id=\"T_fbf2df18_dfc7_11e9_9879_48a4720ed28crow6_col6\" class=\"data row6 col6\" >1</td>\n",
       "                        <td id=\"T_fbf2df18_dfc7_11e9_9879_48a4720ed28crow6_col7\" class=\"data row6 col7\" >0.45</td>\n",
       "                        <td id=\"T_fbf2df18_dfc7_11e9_9879_48a4720ed28crow6_col8\" class=\"data row6 col8\" >0.47</td>\n",
       "                        <td id=\"T_fbf2df18_dfc7_11e9_9879_48a4720ed28crow6_col9\" class=\"data row6 col9\" >0.074</td>\n",
       "                        <td id=\"T_fbf2df18_dfc7_11e9_9879_48a4720ed28crow6_col10\" class=\"data row6 col10\" >1</td>\n",
       "                        <td id=\"T_fbf2df18_dfc7_11e9_9879_48a4720ed28crow6_col11\" class=\"data row6 col11\" >0.45</td>\n",
       "                        <td id=\"T_fbf2df18_dfc7_11e9_9879_48a4720ed28crow6_col12\" class=\"data row6 col12\" >0.012</td>\n",
       "                        <td id=\"T_fbf2df18_dfc7_11e9_9879_48a4720ed28crow6_col13\" class=\"data row6 col13\" >-0.011</td>\n",
       "            </tr>\n",
       "            <tr>\n",
       "                        <th id=\"T_fbf2df18_dfc7_11e9_9879_48a4720ed28clevel0_row7\" class=\"row_heading level0 row7\" >SOURCE_APP_PACKETS</th>\n",
       "                        <td id=\"T_fbf2df18_dfc7_11e9_9879_48a4720ed28crow7_col0\" class=\"data row7 col0\" >-0.042</td>\n",
       "                        <td id=\"T_fbf2df18_dfc7_11e9_9879_48a4720ed28crow7_col1\" class=\"data row7 col1\" >-0.04</td>\n",
       "                        <td id=\"T_fbf2df18_dfc7_11e9_9879_48a4720ed28crow7_col2\" class=\"data row7 col2\" >0.074</td>\n",
       "                        <td id=\"T_fbf2df18_dfc7_11e9_9879_48a4720ed28crow7_col3\" class=\"data row7 col3\" >1</td>\n",
       "                        <td id=\"T_fbf2df18_dfc7_11e9_9879_48a4720ed28crow7_col4\" class=\"data row7 col4\" >0.56</td>\n",
       "                        <td id=\"T_fbf2df18_dfc7_11e9_9879_48a4720ed28crow7_col5\" class=\"data row7 col5\" >0.36</td>\n",
       "                        <td id=\"T_fbf2df18_dfc7_11e9_9879_48a4720ed28crow7_col6\" class=\"data row7 col6\" >0.45</td>\n",
       "                        <td id=\"T_fbf2df18_dfc7_11e9_9879_48a4720ed28crow7_col7\" class=\"data row7 col7\" >1</td>\n",
       "                        <td id=\"T_fbf2df18_dfc7_11e9_9879_48a4720ed28crow7_col8\" class=\"data row7 col8\" >0.99</td>\n",
       "                        <td id=\"T_fbf2df18_dfc7_11e9_9879_48a4720ed28crow7_col9\" class=\"data row7 col9\" >0.86</td>\n",
       "                        <td id=\"T_fbf2df18_dfc7_11e9_9879_48a4720ed28crow7_col10\" class=\"data row7 col10\" >0.45</td>\n",
       "                        <td id=\"T_fbf2df18_dfc7_11e9_9879_48a4720ed28crow7_col11\" class=\"data row7 col11\" >1</td>\n",
       "                        <td id=\"T_fbf2df18_dfc7_11e9_9879_48a4720ed28crow7_col12\" class=\"data row7 col12\" >0.41</td>\n",
       "                        <td id=\"T_fbf2df18_dfc7_11e9_9879_48a4720ed28crow7_col13\" class=\"data row7 col13\" >-0.034</td>\n",
       "            </tr>\n",
       "            <tr>\n",
       "                        <th id=\"T_fbf2df18_dfc7_11e9_9879_48a4720ed28clevel0_row8\" class=\"row_heading level0 row8\" >REMOTE_APP_PACKETS</th>\n",
       "                        <td id=\"T_fbf2df18_dfc7_11e9_9879_48a4720ed28crow8_col0\" class=\"data row8 col0\" >-0.034</td>\n",
       "                        <td id=\"T_fbf2df18_dfc7_11e9_9879_48a4720ed28crow8_col1\" class=\"data row8 col1\" >-0.031</td>\n",
       "                        <td id=\"T_fbf2df18_dfc7_11e9_9879_48a4720ed28crow8_col2\" class=\"data row8 col2\" >0.091</td>\n",
       "                        <td id=\"T_fbf2df18_dfc7_11e9_9879_48a4720ed28crow8_col3\" class=\"data row8 col3\" >0.99</td>\n",
       "                        <td id=\"T_fbf2df18_dfc7_11e9_9879_48a4720ed28crow8_col4\" class=\"data row8 col4\" >0.59</td>\n",
       "                        <td id=\"T_fbf2df18_dfc7_11e9_9879_48a4720ed28crow8_col5\" class=\"data row8 col5\" >0.3</td>\n",
       "                        <td id=\"T_fbf2df18_dfc7_11e9_9879_48a4720ed28crow8_col6\" class=\"data row8 col6\" >0.47</td>\n",
       "                        <td id=\"T_fbf2df18_dfc7_11e9_9879_48a4720ed28crow8_col7\" class=\"data row8 col7\" >0.99</td>\n",
       "                        <td id=\"T_fbf2df18_dfc7_11e9_9879_48a4720ed28crow8_col8\" class=\"data row8 col8\" >1</td>\n",
       "                        <td id=\"T_fbf2df18_dfc7_11e9_9879_48a4720ed28crow8_col9\" class=\"data row8 col9\" >0.88</td>\n",
       "                        <td id=\"T_fbf2df18_dfc7_11e9_9879_48a4720ed28crow8_col10\" class=\"data row8 col10\" >0.47</td>\n",
       "                        <td id=\"T_fbf2df18_dfc7_11e9_9879_48a4720ed28crow8_col11\" class=\"data row8 col11\" >0.99</td>\n",
       "                        <td id=\"T_fbf2df18_dfc7_11e9_9879_48a4720ed28crow8_col12\" class=\"data row8 col12\" >0.36</td>\n",
       "                        <td id=\"T_fbf2df18_dfc7_11e9_9879_48a4720ed28crow8_col13\" class=\"data row8 col13\" >-0.033</td>\n",
       "            </tr>\n",
       "            <tr>\n",
       "                        <th id=\"T_fbf2df18_dfc7_11e9_9879_48a4720ed28clevel0_row9\" class=\"row_heading level0 row9\" >SOURCE_APP_BYTES</th>\n",
       "                        <td id=\"T_fbf2df18_dfc7_11e9_9879_48a4720ed28crow9_col0\" class=\"data row9 col0\" >-0.015</td>\n",
       "                        <td id=\"T_fbf2df18_dfc7_11e9_9879_48a4720ed28crow9_col1\" class=\"data row9 col1\" >-0.014</td>\n",
       "                        <td id=\"T_fbf2df18_dfc7_11e9_9879_48a4720ed28crow9_col2\" class=\"data row9 col2\" >0.1</td>\n",
       "                        <td id=\"T_fbf2df18_dfc7_11e9_9879_48a4720ed28crow9_col3\" class=\"data row9 col3\" >0.87</td>\n",
       "                        <td id=\"T_fbf2df18_dfc7_11e9_9879_48a4720ed28crow9_col4\" class=\"data row9 col4\" >0.31</td>\n",
       "                        <td id=\"T_fbf2df18_dfc7_11e9_9879_48a4720ed28crow9_col5\" class=\"data row9 col5\" >0.17</td>\n",
       "                        <td id=\"T_fbf2df18_dfc7_11e9_9879_48a4720ed28crow9_col6\" class=\"data row9 col6\" >0.074</td>\n",
       "                        <td id=\"T_fbf2df18_dfc7_11e9_9879_48a4720ed28crow9_col7\" class=\"data row9 col7\" >0.86</td>\n",
       "                        <td id=\"T_fbf2df18_dfc7_11e9_9879_48a4720ed28crow9_col8\" class=\"data row9 col8\" >0.88</td>\n",
       "                        <td id=\"T_fbf2df18_dfc7_11e9_9879_48a4720ed28crow9_col9\" class=\"data row9 col9\" >1</td>\n",
       "                        <td id=\"T_fbf2df18_dfc7_11e9_9879_48a4720ed28crow9_col10\" class=\"data row9 col10\" >0.075</td>\n",
       "                        <td id=\"T_fbf2df18_dfc7_11e9_9879_48a4720ed28crow9_col11\" class=\"data row9 col11\" >0.86</td>\n",
       "                        <td id=\"T_fbf2df18_dfc7_11e9_9879_48a4720ed28crow9_col12\" class=\"data row9 col12\" >0.22</td>\n",
       "                        <td id=\"T_fbf2df18_dfc7_11e9_9879_48a4720ed28crow9_col13\" class=\"data row9 col13\" >-0.044</td>\n",
       "            </tr>\n",
       "            <tr>\n",
       "                        <th id=\"T_fbf2df18_dfc7_11e9_9879_48a4720ed28clevel0_row10\" class=\"row_heading level0 row10\" >REMOTE_APP_BYTES</th>\n",
       "                        <td id=\"T_fbf2df18_dfc7_11e9_9879_48a4720ed28crow10_col0\" class=\"data row10 col0\" >-0.027</td>\n",
       "                        <td id=\"T_fbf2df18_dfc7_11e9_9879_48a4720ed28crow10_col1\" class=\"data row10 col1\" >-0.024</td>\n",
       "                        <td id=\"T_fbf2df18_dfc7_11e9_9879_48a4720ed28crow10_col2\" class=\"data row10 col2\" >0.048</td>\n",
       "                        <td id=\"T_fbf2df18_dfc7_11e9_9879_48a4720ed28crow10_col3\" class=\"data row10 col3\" >0.46</td>\n",
       "                        <td id=\"T_fbf2df18_dfc7_11e9_9879_48a4720ed28crow10_col4\" class=\"data row10 col4\" >0.78</td>\n",
       "                        <td id=\"T_fbf2df18_dfc7_11e9_9879_48a4720ed28crow10_col5\" class=\"data row10 col5\" >0.025</td>\n",
       "                        <td id=\"T_fbf2df18_dfc7_11e9_9879_48a4720ed28crow10_col6\" class=\"data row10 col6\" >1</td>\n",
       "                        <td id=\"T_fbf2df18_dfc7_11e9_9879_48a4720ed28crow10_col7\" class=\"data row10 col7\" >0.45</td>\n",
       "                        <td id=\"T_fbf2df18_dfc7_11e9_9879_48a4720ed28crow10_col8\" class=\"data row10 col8\" >0.47</td>\n",
       "                        <td id=\"T_fbf2df18_dfc7_11e9_9879_48a4720ed28crow10_col9\" class=\"data row10 col9\" >0.075</td>\n",
       "                        <td id=\"T_fbf2df18_dfc7_11e9_9879_48a4720ed28crow10_col10\" class=\"data row10 col10\" >1</td>\n",
       "                        <td id=\"T_fbf2df18_dfc7_11e9_9879_48a4720ed28crow10_col11\" class=\"data row10 col11\" >0.45</td>\n",
       "                        <td id=\"T_fbf2df18_dfc7_11e9_9879_48a4720ed28crow10_col12\" class=\"data row10 col12\" >0.016</td>\n",
       "                        <td id=\"T_fbf2df18_dfc7_11e9_9879_48a4720ed28crow10_col13\" class=\"data row10 col13\" >-0.011</td>\n",
       "            </tr>\n",
       "            <tr>\n",
       "                        <th id=\"T_fbf2df18_dfc7_11e9_9879_48a4720ed28clevel0_row11\" class=\"row_heading level0 row11\" >APP_PACKETS</th>\n",
       "                        <td id=\"T_fbf2df18_dfc7_11e9_9879_48a4720ed28crow11_col0\" class=\"data row11 col0\" >-0.042</td>\n",
       "                        <td id=\"T_fbf2df18_dfc7_11e9_9879_48a4720ed28crow11_col1\" class=\"data row11 col1\" >-0.04</td>\n",
       "                        <td id=\"T_fbf2df18_dfc7_11e9_9879_48a4720ed28crow11_col2\" class=\"data row11 col2\" >0.074</td>\n",
       "                        <td id=\"T_fbf2df18_dfc7_11e9_9879_48a4720ed28crow11_col3\" class=\"data row11 col3\" >1</td>\n",
       "                        <td id=\"T_fbf2df18_dfc7_11e9_9879_48a4720ed28crow11_col4\" class=\"data row11 col4\" >0.56</td>\n",
       "                        <td id=\"T_fbf2df18_dfc7_11e9_9879_48a4720ed28crow11_col5\" class=\"data row11 col5\" >0.36</td>\n",
       "                        <td id=\"T_fbf2df18_dfc7_11e9_9879_48a4720ed28crow11_col6\" class=\"data row11 col6\" >0.45</td>\n",
       "                        <td id=\"T_fbf2df18_dfc7_11e9_9879_48a4720ed28crow11_col7\" class=\"data row11 col7\" >1</td>\n",
       "                        <td id=\"T_fbf2df18_dfc7_11e9_9879_48a4720ed28crow11_col8\" class=\"data row11 col8\" >0.99</td>\n",
       "                        <td id=\"T_fbf2df18_dfc7_11e9_9879_48a4720ed28crow11_col9\" class=\"data row11 col9\" >0.86</td>\n",
       "                        <td id=\"T_fbf2df18_dfc7_11e9_9879_48a4720ed28crow11_col10\" class=\"data row11 col10\" >0.45</td>\n",
       "                        <td id=\"T_fbf2df18_dfc7_11e9_9879_48a4720ed28crow11_col11\" class=\"data row11 col11\" >1</td>\n",
       "                        <td id=\"T_fbf2df18_dfc7_11e9_9879_48a4720ed28crow11_col12\" class=\"data row11 col12\" >0.41</td>\n",
       "                        <td id=\"T_fbf2df18_dfc7_11e9_9879_48a4720ed28crow11_col13\" class=\"data row11 col13\" >-0.034</td>\n",
       "            </tr>\n",
       "            <tr>\n",
       "                        <th id=\"T_fbf2df18_dfc7_11e9_9879_48a4720ed28clevel0_row12\" class=\"row_heading level0 row12\" >DNS_QUERY_TIMES</th>\n",
       "                        <td id=\"T_fbf2df18_dfc7_11e9_9879_48a4720ed28crow12_col0\" class=\"data row12 col0\" >-0.069</td>\n",
       "                        <td id=\"T_fbf2df18_dfc7_11e9_9879_48a4720ed28crow12_col1\" class=\"data row12 col1\" >-0.05</td>\n",
       "                        <td id=\"T_fbf2df18_dfc7_11e9_9879_48a4720ed28crow12_col2\" class=\"data row12 col2\" >-0.046</td>\n",
       "                        <td id=\"T_fbf2df18_dfc7_11e9_9879_48a4720ed28crow12_col3\" class=\"data row12 col3\" >0.35</td>\n",
       "                        <td id=\"T_fbf2df18_dfc7_11e9_9879_48a4720ed28crow12_col4\" class=\"data row12 col4\" >0.26</td>\n",
       "                        <td id=\"T_fbf2df18_dfc7_11e9_9879_48a4720ed28crow12_col5\" class=\"data row12 col5\" >0.55</td>\n",
       "                        <td id=\"T_fbf2df18_dfc7_11e9_9879_48a4720ed28crow12_col6\" class=\"data row12 col6\" >0.012</td>\n",
       "                        <td id=\"T_fbf2df18_dfc7_11e9_9879_48a4720ed28crow12_col7\" class=\"data row12 col7\" >0.41</td>\n",
       "                        <td id=\"T_fbf2df18_dfc7_11e9_9879_48a4720ed28crow12_col8\" class=\"data row12 col8\" >0.36</td>\n",
       "                        <td id=\"T_fbf2df18_dfc7_11e9_9879_48a4720ed28crow12_col9\" class=\"data row12 col9\" >0.22</td>\n",
       "                        <td id=\"T_fbf2df18_dfc7_11e9_9879_48a4720ed28crow12_col10\" class=\"data row12 col10\" >0.016</td>\n",
       "                        <td id=\"T_fbf2df18_dfc7_11e9_9879_48a4720ed28crow12_col11\" class=\"data row12 col11\" >0.41</td>\n",
       "                        <td id=\"T_fbf2df18_dfc7_11e9_9879_48a4720ed28crow12_col12\" class=\"data row12 col12\" >1</td>\n",
       "                        <td id=\"T_fbf2df18_dfc7_11e9_9879_48a4720ed28crow12_col13\" class=\"data row12 col13\" >0.069</td>\n",
       "            </tr>\n",
       "            <tr>\n",
       "                        <th id=\"T_fbf2df18_dfc7_11e9_9879_48a4720ed28clevel0_row13\" class=\"row_heading level0 row13\" >Type</th>\n",
       "                        <td id=\"T_fbf2df18_dfc7_11e9_9879_48a4720ed28crow13_col0\" class=\"data row13 col0\" >0.16</td>\n",
       "                        <td id=\"T_fbf2df18_dfc7_11e9_9879_48a4720ed28crow13_col1\" class=\"data row13 col1\" >0.28</td>\n",
       "                        <td id=\"T_fbf2df18_dfc7_11e9_9879_48a4720ed28crow13_col2\" class=\"data row13 col2\" >-0.091</td>\n",
       "                        <td id=\"T_fbf2df18_dfc7_11e9_9879_48a4720ed28crow13_col3\" class=\"data row13 col3\" >-0.04</td>\n",
       "                        <td id=\"T_fbf2df18_dfc7_11e9_9879_48a4720ed28crow13_col4\" class=\"data row13 col4\" >-0.083</td>\n",
       "                        <td id=\"T_fbf2df18_dfc7_11e9_9879_48a4720ed28crow13_col5\" class=\"data row13 col5\" >-0.079</td>\n",
       "                        <td id=\"T_fbf2df18_dfc7_11e9_9879_48a4720ed28crow13_col6\" class=\"data row13 col6\" >-0.011</td>\n",
       "                        <td id=\"T_fbf2df18_dfc7_11e9_9879_48a4720ed28crow13_col7\" class=\"data row13 col7\" >-0.034</td>\n",
       "                        <td id=\"T_fbf2df18_dfc7_11e9_9879_48a4720ed28crow13_col8\" class=\"data row13 col8\" >-0.033</td>\n",
       "                        <td id=\"T_fbf2df18_dfc7_11e9_9879_48a4720ed28crow13_col9\" class=\"data row13 col9\" >-0.044</td>\n",
       "                        <td id=\"T_fbf2df18_dfc7_11e9_9879_48a4720ed28crow13_col10\" class=\"data row13 col10\" >-0.011</td>\n",
       "                        <td id=\"T_fbf2df18_dfc7_11e9_9879_48a4720ed28crow13_col11\" class=\"data row13 col11\" >-0.034</td>\n",
       "                        <td id=\"T_fbf2df18_dfc7_11e9_9879_48a4720ed28crow13_col12\" class=\"data row13 col12\" >0.069</td>\n",
       "                        <td id=\"T_fbf2df18_dfc7_11e9_9879_48a4720ed28crow13_col13\" class=\"data row13 col13\" >1</td>\n",
       "            </tr>\n",
       "    </tbody></table>"
      ],
      "text/plain": [
       "<pandas.io.formats.style.Styler at 0x1ec4b026630>"
      ]
     },
     "execution_count": 6,
     "metadata": {},
     "output_type": "execute_result"
    }
   ],
   "source": [
    "matrix = correlation.style.background_gradient(cmap='RdYlGn',axis=None).set_precision(2)\n",
    "matrix"
   ]
  },
  {
   "cell_type": "code",
   "execution_count": 7,
   "metadata": {},
   "outputs": [],
   "source": [
    "# Your comment here\n",
    "#SOURCE_APP_PACKETS APP_PACKETS TCP_CONVERSATION_EXCHANGE remove"
   ]
  },
  {
   "cell_type": "markdown",
   "metadata": {},
   "source": [
    "# Challenge 2 - Remove Column Collinearity.\n",
    "\n",
    "From the heatmap you created, you should have seen at least 3 columns that can be removed due to high collinearity. Remove these columns from the dataset.\n",
    "\n",
    "Note that you should remove as few columns as you can. You don't have to remove all the columns at once. But instead, try removing one column, then produce the heatmap again to determine if additional columns should be removed. As long as the dataset no longer contains columns that are correlated for over 90%, you can stop. Also, keep in mind when two columns have high collinearity, you only need to remove one of them but not both.\n",
    "\n",
    "In the cells below, remove as few columns as you can to eliminate the high collinearity in the dataset. Make sure to comment on your way so that the instructional team can learn about your thinking process which allows them to give feedback. At the end, print the heatmap again."
   ]
  },
  {
   "cell_type": "code",
   "execution_count": 8,
   "metadata": {},
   "outputs": [],
   "source": [
    "# Your code here\n",
    "websites.drop(columns= \"APP_PACKETS\",inplace=True)"
   ]
  },
  {
   "cell_type": "code",
   "execution_count": 9,
   "metadata": {},
   "outputs": [],
   "source": [
    "websites.drop(columns= \"TCP_CONVERSATION_EXCHANGE\",inplace=True)"
   ]
  },
  {
   "cell_type": "code",
   "execution_count": 10,
   "metadata": {},
   "outputs": [],
   "source": [
    "websites.drop(columns= \"APP_BYTES\",inplace=True)"
   ]
  },
  {
   "cell_type": "code",
   "execution_count": 11,
   "metadata": {},
   "outputs": [],
   "source": [
    "websites.drop(columns= \"REMOTE_APP_PACKETS\",inplace=True)"
   ]
  },
  {
   "cell_type": "code",
   "execution_count": 12,
   "metadata": {},
   "outputs": [],
   "source": [
    "websites.drop(columns= \"NUMBER_SPECIAL_CHARACTERS\",inplace=True)"
   ]
  },
  {
   "cell_type": "code",
   "execution_count": 13,
   "metadata": {},
   "outputs": [
    {
     "data": {
      "text/html": [
       "<style  type=\"text/css\" >\n",
       "    #T_fc611198_dfc7_11e9_abde_48a4720ed28crow0_col0 {\n",
       "            background-color:  #006837;\n",
       "            color:  #f1f1f1;\n",
       "        }    #T_fc611198_dfc7_11e9_abde_48a4720ed28crow0_col1 {\n",
       "            background-color:  #f46d43;\n",
       "            color:  #000000;\n",
       "        }    #T_fc611198_dfc7_11e9_abde_48a4720ed28crow0_col2 {\n",
       "            background-color:  #bb1526;\n",
       "            color:  #f1f1f1;\n",
       "        }    #T_fc611198_dfc7_11e9_abde_48a4720ed28crow0_col3 {\n",
       "            background-color:  #b91326;\n",
       "            color:  #f1f1f1;\n",
       "        }    #T_fc611198_dfc7_11e9_abde_48a4720ed28crow0_col4 {\n",
       "            background-color:  #bb1526;\n",
       "            color:  #f1f1f1;\n",
       "        }    #T_fc611198_dfc7_11e9_abde_48a4720ed28crow0_col5 {\n",
       "            background-color:  #c62027;\n",
       "            color:  #f1f1f1;\n",
       "        }    #T_fc611198_dfc7_11e9_abde_48a4720ed28crow0_col6 {\n",
       "            background-color:  #c21c27;\n",
       "            color:  #f1f1f1;\n",
       "        }    #T_fc611198_dfc7_11e9_abde_48a4720ed28crow0_col7 {\n",
       "            background-color:  #af0926;\n",
       "            color:  #f1f1f1;\n",
       "        }    #T_fc611198_dfc7_11e9_abde_48a4720ed28crow0_col8 {\n",
       "            background-color:  #f7814c;\n",
       "            color:  #000000;\n",
       "        }    #T_fc611198_dfc7_11e9_abde_48a4720ed28crow1_col0 {\n",
       "            background-color:  #f46d43;\n",
       "            color:  #000000;\n",
       "        }    #T_fc611198_dfc7_11e9_abde_48a4720ed28crow1_col1 {\n",
       "            background-color:  #006837;\n",
       "            color:  #f1f1f1;\n",
       "        }    #T_fc611198_dfc7_11e9_abde_48a4720ed28crow1_col2 {\n",
       "            background-color:  #ce2827;\n",
       "            color:  #f1f1f1;\n",
       "        }    #T_fc611198_dfc7_11e9_abde_48a4720ed28crow1_col3 {\n",
       "            background-color:  #d02927;\n",
       "            color:  #f1f1f1;\n",
       "        }    #T_fc611198_dfc7_11e9_abde_48a4720ed28crow1_col4 {\n",
       "            background-color:  #e54e35;\n",
       "            color:  #000000;\n",
       "        }    #T_fc611198_dfc7_11e9_abde_48a4720ed28crow1_col5 {\n",
       "            background-color:  #ec5c3b;\n",
       "            color:  #000000;\n",
       "        }    #T_fc611198_dfc7_11e9_abde_48a4720ed28crow1_col6 {\n",
       "            background-color:  #de402e;\n",
       "            color:  #f1f1f1;\n",
       "        }    #T_fc611198_dfc7_11e9_abde_48a4720ed28crow1_col7 {\n",
       "            background-color:  #b91326;\n",
       "            color:  #f1f1f1;\n",
       "        }    #T_fc611198_dfc7_11e9_abde_48a4720ed28crow1_col8 {\n",
       "            background-color:  #a50026;\n",
       "            color:  #f1f1f1;\n",
       "        }    #T_fc611198_dfc7_11e9_abde_48a4720ed28crow2_col0 {\n",
       "            background-color:  #bb1526;\n",
       "            color:  #f1f1f1;\n",
       "        }    #T_fc611198_dfc7_11e9_abde_48a4720ed28crow2_col1 {\n",
       "            background-color:  #ce2827;\n",
       "            color:  #f1f1f1;\n",
       "        }    #T_fc611198_dfc7_11e9_abde_48a4720ed28crow2_col2 {\n",
       "            background-color:  #006837;\n",
       "            color:  #f1f1f1;\n",
       "        }    #T_fc611198_dfc7_11e9_abde_48a4720ed28crow2_col3 {\n",
       "            background-color:  #fb9d59;\n",
       "            color:  #000000;\n",
       "        }    #T_fc611198_dfc7_11e9_abde_48a4720ed28crow2_col4 {\n",
       "            background-color:  #daf08d;\n",
       "            color:  #000000;\n",
       "        }    #T_fc611198_dfc7_11e9_abde_48a4720ed28crow2_col5 {\n",
       "            background-color:  #fed07e;\n",
       "            color:  #000000;\n",
       "        }    #T_fc611198_dfc7_11e9_abde_48a4720ed28crow2_col6 {\n",
       "            background-color:  #66bd63;\n",
       "            color:  #000000;\n",
       "        }    #T_fc611198_dfc7_11e9_abde_48a4720ed28crow2_col7 {\n",
       "            background-color:  #fdb96a;\n",
       "            color:  #000000;\n",
       "        }    #T_fc611198_dfc7_11e9_abde_48a4720ed28crow2_col8 {\n",
       "            background-color:  #a70226;\n",
       "            color:  #f1f1f1;\n",
       "        }    #T_fc611198_dfc7_11e9_abde_48a4720ed28crow3_col0 {\n",
       "            background-color:  #b91326;\n",
       "            color:  #f1f1f1;\n",
       "        }    #T_fc611198_dfc7_11e9_abde_48a4720ed28crow3_col1 {\n",
       "            background-color:  #d02927;\n",
       "            color:  #f1f1f1;\n",
       "        }    #T_fc611198_dfc7_11e9_abde_48a4720ed28crow3_col2 {\n",
       "            background-color:  #fb9d59;\n",
       "            color:  #000000;\n",
       "        }    #T_fc611198_dfc7_11e9_abde_48a4720ed28crow3_col3 {\n",
       "            background-color:  #006837;\n",
       "            color:  #f1f1f1;\n",
       "        }    #T_fc611198_dfc7_11e9_abde_48a4720ed28crow3_col4 {\n",
       "            background-color:  #fee593;\n",
       "            color:  #000000;\n",
       "        }    #T_fc611198_dfc7_11e9_abde_48a4720ed28crow3_col5 {\n",
       "            background-color:  #f8864f;\n",
       "            color:  #000000;\n",
       "        }    #T_fc611198_dfc7_11e9_abde_48a4720ed28crow3_col6 {\n",
       "            background-color:  #d93429;\n",
       "            color:  #f1f1f1;\n",
       "        }    #T_fc611198_dfc7_11e9_abde_48a4720ed28crow3_col7 {\n",
       "            background-color:  #dff293;\n",
       "            color:  #000000;\n",
       "        }    #T_fc611198_dfc7_11e9_abde_48a4720ed28crow3_col8 {\n",
       "            background-color:  #a90426;\n",
       "            color:  #f1f1f1;\n",
       "        }    #T_fc611198_dfc7_11e9_abde_48a4720ed28crow4_col0 {\n",
       "            background-color:  #bb1526;\n",
       "            color:  #f1f1f1;\n",
       "        }    #T_fc611198_dfc7_11e9_abde_48a4720ed28crow4_col1 {\n",
       "            background-color:  #e54e35;\n",
       "            color:  #000000;\n",
       "        }    #T_fc611198_dfc7_11e9_abde_48a4720ed28crow4_col2 {\n",
       "            background-color:  #daf08d;\n",
       "            color:  #000000;\n",
       "        }    #T_fc611198_dfc7_11e9_abde_48a4720ed28crow4_col3 {\n",
       "            background-color:  #fee593;\n",
       "            color:  #000000;\n",
       "        }    #T_fc611198_dfc7_11e9_abde_48a4720ed28crow4_col4 {\n",
       "            background-color:  #006837;\n",
       "            color:  #f1f1f1;\n",
       "        }    #T_fc611198_dfc7_11e9_abde_48a4720ed28crow4_col5 {\n",
       "            background-color:  #30a356;\n",
       "            color:  #000000;\n",
       "        }    #T_fc611198_dfc7_11e9_abde_48a4720ed28crow4_col6 {\n",
       "            background-color:  #fffdbc;\n",
       "            color:  #000000;\n",
       "        }    #T_fc611198_dfc7_11e9_abde_48a4720ed28crow4_col7 {\n",
       "            background-color:  #fff2aa;\n",
       "            color:  #000000;\n",
       "        }    #T_fc611198_dfc7_11e9_abde_48a4720ed28crow4_col8 {\n",
       "            background-color:  #be1827;\n",
       "            color:  #f1f1f1;\n",
       "        }    #T_fc611198_dfc7_11e9_abde_48a4720ed28crow5_col0 {\n",
       "            background-color:  #c62027;\n",
       "            color:  #f1f1f1;\n",
       "        }    #T_fc611198_dfc7_11e9_abde_48a4720ed28crow5_col1 {\n",
       "            background-color:  #ec5c3b;\n",
       "            color:  #000000;\n",
       "        }    #T_fc611198_dfc7_11e9_abde_48a4720ed28crow5_col2 {\n",
       "            background-color:  #fed07e;\n",
       "            color:  #000000;\n",
       "        }    #T_fc611198_dfc7_11e9_abde_48a4720ed28crow5_col3 {\n",
       "            background-color:  #f8864f;\n",
       "            color:  #000000;\n",
       "        }    #T_fc611198_dfc7_11e9_abde_48a4720ed28crow5_col4 {\n",
       "            background-color:  #30a356;\n",
       "            color:  #000000;\n",
       "        }    #T_fc611198_dfc7_11e9_abde_48a4720ed28crow5_col5 {\n",
       "            background-color:  #006837;\n",
       "            color:  #f1f1f1;\n",
       "        }    #T_fc611198_dfc7_11e9_abde_48a4720ed28crow5_col6 {\n",
       "            background-color:  #e54e35;\n",
       "            color:  #000000;\n",
       "        }    #T_fc611198_dfc7_11e9_abde_48a4720ed28crow5_col7 {\n",
       "            background-color:  #fba05b;\n",
       "            color:  #000000;\n",
       "        }    #T_fc611198_dfc7_11e9_abde_48a4720ed28crow5_col8 {\n",
       "            background-color:  #bb1526;\n",
       "            color:  #f1f1f1;\n",
       "        }    #T_fc611198_dfc7_11e9_abde_48a4720ed28crow6_col0 {\n",
       "            background-color:  #c21c27;\n",
       "            color:  #f1f1f1;\n",
       "        }    #T_fc611198_dfc7_11e9_abde_48a4720ed28crow6_col1 {\n",
       "            background-color:  #de402e;\n",
       "            color:  #f1f1f1;\n",
       "        }    #T_fc611198_dfc7_11e9_abde_48a4720ed28crow6_col2 {\n",
       "            background-color:  #66bd63;\n",
       "            color:  #000000;\n",
       "        }    #T_fc611198_dfc7_11e9_abde_48a4720ed28crow6_col3 {\n",
       "            background-color:  #d93429;\n",
       "            color:  #f1f1f1;\n",
       "        }    #T_fc611198_dfc7_11e9_abde_48a4720ed28crow6_col4 {\n",
       "            background-color:  #fffdbc;\n",
       "            color:  #000000;\n",
       "        }    #T_fc611198_dfc7_11e9_abde_48a4720ed28crow6_col5 {\n",
       "            background-color:  #e54e35;\n",
       "            color:  #000000;\n",
       "        }    #T_fc611198_dfc7_11e9_abde_48a4720ed28crow6_col6 {\n",
       "            background-color:  #006837;\n",
       "            color:  #f1f1f1;\n",
       "        }    #T_fc611198_dfc7_11e9_abde_48a4720ed28crow6_col7 {\n",
       "            background-color:  #d62f27;\n",
       "            color:  #f1f1f1;\n",
       "        }    #T_fc611198_dfc7_11e9_abde_48a4720ed28crow6_col8 {\n",
       "            background-color:  #c82227;\n",
       "            color:  #f1f1f1;\n",
       "        }    #T_fc611198_dfc7_11e9_abde_48a4720ed28crow7_col0 {\n",
       "            background-color:  #af0926;\n",
       "            color:  #f1f1f1;\n",
       "        }    #T_fc611198_dfc7_11e9_abde_48a4720ed28crow7_col1 {\n",
       "            background-color:  #b91326;\n",
       "            color:  #f1f1f1;\n",
       "        }    #T_fc611198_dfc7_11e9_abde_48a4720ed28crow7_col2 {\n",
       "            background-color:  #fdb96a;\n",
       "            color:  #000000;\n",
       "        }    #T_fc611198_dfc7_11e9_abde_48a4720ed28crow7_col3 {\n",
       "            background-color:  #dff293;\n",
       "            color:  #000000;\n",
       "        }    #T_fc611198_dfc7_11e9_abde_48a4720ed28crow7_col4 {\n",
       "            background-color:  #fff2aa;\n",
       "            color:  #000000;\n",
       "        }    #T_fc611198_dfc7_11e9_abde_48a4720ed28crow7_col5 {\n",
       "            background-color:  #fba05b;\n",
       "            color:  #000000;\n",
       "        }    #T_fc611198_dfc7_11e9_abde_48a4720ed28crow7_col6 {\n",
       "            background-color:  #d62f27;\n",
       "            color:  #f1f1f1;\n",
       "        }    #T_fc611198_dfc7_11e9_abde_48a4720ed28crow7_col7 {\n",
       "            background-color:  #006837;\n",
       "            color:  #f1f1f1;\n",
       "        }    #T_fc611198_dfc7_11e9_abde_48a4720ed28crow7_col8 {\n",
       "            background-color:  #e44c34;\n",
       "            color:  #000000;\n",
       "        }    #T_fc611198_dfc7_11e9_abde_48a4720ed28crow8_col0 {\n",
       "            background-color:  #f7814c;\n",
       "            color:  #000000;\n",
       "        }    #T_fc611198_dfc7_11e9_abde_48a4720ed28crow8_col1 {\n",
       "            background-color:  #a50026;\n",
       "            color:  #f1f1f1;\n",
       "        }    #T_fc611198_dfc7_11e9_abde_48a4720ed28crow8_col2 {\n",
       "            background-color:  #a70226;\n",
       "            color:  #f1f1f1;\n",
       "        }    #T_fc611198_dfc7_11e9_abde_48a4720ed28crow8_col3 {\n",
       "            background-color:  #a90426;\n",
       "            color:  #f1f1f1;\n",
       "        }    #T_fc611198_dfc7_11e9_abde_48a4720ed28crow8_col4 {\n",
       "            background-color:  #be1827;\n",
       "            color:  #f1f1f1;\n",
       "        }    #T_fc611198_dfc7_11e9_abde_48a4720ed28crow8_col5 {\n",
       "            background-color:  #bb1526;\n",
       "            color:  #f1f1f1;\n",
       "        }    #T_fc611198_dfc7_11e9_abde_48a4720ed28crow8_col6 {\n",
       "            background-color:  #c82227;\n",
       "            color:  #f1f1f1;\n",
       "        }    #T_fc611198_dfc7_11e9_abde_48a4720ed28crow8_col7 {\n",
       "            background-color:  #e44c34;\n",
       "            color:  #000000;\n",
       "        }    #T_fc611198_dfc7_11e9_abde_48a4720ed28crow8_col8 {\n",
       "            background-color:  #006837;\n",
       "            color:  #f1f1f1;\n",
       "        }</style><table id=\"T_fc611198_dfc7_11e9_abde_48a4720ed28c\" ><thead>    <tr>        <th class=\"blank level0\" ></th>        <th class=\"col_heading level0 col0\" >URL_LENGTH</th>        <th class=\"col_heading level0 col1\" >CONTENT_LENGTH</th>        <th class=\"col_heading level0 col2\" >DIST_REMOTE_TCP_PORT</th>        <th class=\"col_heading level0 col3\" >REMOTE_IPS</th>        <th class=\"col_heading level0 col4\" >SOURCE_APP_PACKETS</th>        <th class=\"col_heading level0 col5\" >SOURCE_APP_BYTES</th>        <th class=\"col_heading level0 col6\" >REMOTE_APP_BYTES</th>        <th class=\"col_heading level0 col7\" >DNS_QUERY_TIMES</th>        <th class=\"col_heading level0 col8\" >Type</th>    </tr></thead><tbody>\n",
       "                <tr>\n",
       "                        <th id=\"T_fc611198_dfc7_11e9_abde_48a4720ed28clevel0_row0\" class=\"row_heading level0 row0\" >URL_LENGTH</th>\n",
       "                        <td id=\"T_fc611198_dfc7_11e9_abde_48a4720ed28crow0_col0\" class=\"data row0 col0\" >1</td>\n",
       "                        <td id=\"T_fc611198_dfc7_11e9_abde_48a4720ed28crow0_col1\" class=\"data row0 col1\" >0.13</td>\n",
       "                        <td id=\"T_fc611198_dfc7_11e9_abde_48a4720ed28crow0_col2\" class=\"data row0 col2\" >-0.04</td>\n",
       "                        <td id=\"T_fc611198_dfc7_11e9_abde_48a4720ed28crow0_col3\" class=\"data row0 col3\" >-0.046</td>\n",
       "                        <td id=\"T_fc611198_dfc7_11e9_abde_48a4720ed28crow0_col4\" class=\"data row0 col4\" >-0.042</td>\n",
       "                        <td id=\"T_fc611198_dfc7_11e9_abde_48a4720ed28crow0_col5\" class=\"data row0 col5\" >-0.015</td>\n",
       "                        <td id=\"T_fc611198_dfc7_11e9_abde_48a4720ed28crow0_col6\" class=\"data row0 col6\" >-0.027</td>\n",
       "                        <td id=\"T_fc611198_dfc7_11e9_abde_48a4720ed28crow0_col7\" class=\"data row0 col7\" >-0.069</td>\n",
       "                        <td id=\"T_fc611198_dfc7_11e9_abde_48a4720ed28crow0_col8\" class=\"data row0 col8\" >0.16</td>\n",
       "            </tr>\n",
       "            <tr>\n",
       "                        <th id=\"T_fc611198_dfc7_11e9_abde_48a4720ed28clevel0_row1\" class=\"row_heading level0 row1\" >CONTENT_LENGTH</th>\n",
       "                        <td id=\"T_fc611198_dfc7_11e9_abde_48a4720ed28crow1_col0\" class=\"data row1 col0\" >0.13</td>\n",
       "                        <td id=\"T_fc611198_dfc7_11e9_abde_48a4720ed28crow1_col1\" class=\"data row1 col1\" >1</td>\n",
       "                        <td id=\"T_fc611198_dfc7_11e9_abde_48a4720ed28crow1_col2\" class=\"data row1 col2\" >-0.00038</td>\n",
       "                        <td id=\"T_fc611198_dfc7_11e9_abde_48a4720ed28crow1_col3\" class=\"data row1 col3\" >0.0048</td>\n",
       "                        <td id=\"T_fc611198_dfc7_11e9_abde_48a4720ed28crow1_col4\" class=\"data row1 col4\" >0.074</td>\n",
       "                        <td id=\"T_fc611198_dfc7_11e9_abde_48a4720ed28crow1_col5\" class=\"data row1 col5\" >0.1</td>\n",
       "                        <td id=\"T_fc611198_dfc7_11e9_abde_48a4720ed28crow1_col6\" class=\"data row1 col6\" >0.048</td>\n",
       "                        <td id=\"T_fc611198_dfc7_11e9_abde_48a4720ed28crow1_col7\" class=\"data row1 col7\" >-0.046</td>\n",
       "                        <td id=\"T_fc611198_dfc7_11e9_abde_48a4720ed28crow1_col8\" class=\"data row1 col8\" >-0.091</td>\n",
       "            </tr>\n",
       "            <tr>\n",
       "                        <th id=\"T_fc611198_dfc7_11e9_abde_48a4720ed28clevel0_row2\" class=\"row_heading level0 row2\" >DIST_REMOTE_TCP_PORT</th>\n",
       "                        <td id=\"T_fc611198_dfc7_11e9_abde_48a4720ed28crow2_col0\" class=\"data row2 col0\" >-0.04</td>\n",
       "                        <td id=\"T_fc611198_dfc7_11e9_abde_48a4720ed28crow2_col1\" class=\"data row2 col1\" >-0.00038</td>\n",
       "                        <td id=\"T_fc611198_dfc7_11e9_abde_48a4720ed28crow2_col2\" class=\"data row2 col2\" >1</td>\n",
       "                        <td id=\"T_fc611198_dfc7_11e9_abde_48a4720ed28crow2_col3\" class=\"data row2 col3\" >0.21</td>\n",
       "                        <td id=\"T_fc611198_dfc7_11e9_abde_48a4720ed28crow2_col4\" class=\"data row2 col4\" >0.56</td>\n",
       "                        <td id=\"T_fc611198_dfc7_11e9_abde_48a4720ed28crow2_col5\" class=\"data row2 col5\" >0.31</td>\n",
       "                        <td id=\"T_fc611198_dfc7_11e9_abde_48a4720ed28crow2_col6\" class=\"data row2 col6\" >0.78</td>\n",
       "                        <td id=\"T_fc611198_dfc7_11e9_abde_48a4720ed28crow2_col7\" class=\"data row2 col7\" >0.26</td>\n",
       "                        <td id=\"T_fc611198_dfc7_11e9_abde_48a4720ed28crow2_col8\" class=\"data row2 col8\" >-0.083</td>\n",
       "            </tr>\n",
       "            <tr>\n",
       "                        <th id=\"T_fc611198_dfc7_11e9_abde_48a4720ed28clevel0_row3\" class=\"row_heading level0 row3\" >REMOTE_IPS</th>\n",
       "                        <td id=\"T_fc611198_dfc7_11e9_abde_48a4720ed28crow3_col0\" class=\"data row3 col0\" >-0.046</td>\n",
       "                        <td id=\"T_fc611198_dfc7_11e9_abde_48a4720ed28crow3_col1\" class=\"data row3 col1\" >0.0048</td>\n",
       "                        <td id=\"T_fc611198_dfc7_11e9_abde_48a4720ed28crow3_col2\" class=\"data row3 col2\" >0.21</td>\n",
       "                        <td id=\"T_fc611198_dfc7_11e9_abde_48a4720ed28crow3_col3\" class=\"data row3 col3\" >1</td>\n",
       "                        <td id=\"T_fc611198_dfc7_11e9_abde_48a4720ed28crow3_col4\" class=\"data row3 col4\" >0.36</td>\n",
       "                        <td id=\"T_fc611198_dfc7_11e9_abde_48a4720ed28crow3_col5\" class=\"data row3 col5\" >0.17</td>\n",
       "                        <td id=\"T_fc611198_dfc7_11e9_abde_48a4720ed28crow3_col6\" class=\"data row3 col6\" >0.025</td>\n",
       "                        <td id=\"T_fc611198_dfc7_11e9_abde_48a4720ed28crow3_col7\" class=\"data row3 col7\" >0.55</td>\n",
       "                        <td id=\"T_fc611198_dfc7_11e9_abde_48a4720ed28crow3_col8\" class=\"data row3 col8\" >-0.079</td>\n",
       "            </tr>\n",
       "            <tr>\n",
       "                        <th id=\"T_fc611198_dfc7_11e9_abde_48a4720ed28clevel0_row4\" class=\"row_heading level0 row4\" >SOURCE_APP_PACKETS</th>\n",
       "                        <td id=\"T_fc611198_dfc7_11e9_abde_48a4720ed28crow4_col0\" class=\"data row4 col0\" >-0.042</td>\n",
       "                        <td id=\"T_fc611198_dfc7_11e9_abde_48a4720ed28crow4_col1\" class=\"data row4 col1\" >0.074</td>\n",
       "                        <td id=\"T_fc611198_dfc7_11e9_abde_48a4720ed28crow4_col2\" class=\"data row4 col2\" >0.56</td>\n",
       "                        <td id=\"T_fc611198_dfc7_11e9_abde_48a4720ed28crow4_col3\" class=\"data row4 col3\" >0.36</td>\n",
       "                        <td id=\"T_fc611198_dfc7_11e9_abde_48a4720ed28crow4_col4\" class=\"data row4 col4\" >1</td>\n",
       "                        <td id=\"T_fc611198_dfc7_11e9_abde_48a4720ed28crow4_col5\" class=\"data row4 col5\" >0.86</td>\n",
       "                        <td id=\"T_fc611198_dfc7_11e9_abde_48a4720ed28crow4_col6\" class=\"data row4 col6\" >0.45</td>\n",
       "                        <td id=\"T_fc611198_dfc7_11e9_abde_48a4720ed28crow4_col7\" class=\"data row4 col7\" >0.41</td>\n",
       "                        <td id=\"T_fc611198_dfc7_11e9_abde_48a4720ed28crow4_col8\" class=\"data row4 col8\" >-0.034</td>\n",
       "            </tr>\n",
       "            <tr>\n",
       "                        <th id=\"T_fc611198_dfc7_11e9_abde_48a4720ed28clevel0_row5\" class=\"row_heading level0 row5\" >SOURCE_APP_BYTES</th>\n",
       "                        <td id=\"T_fc611198_dfc7_11e9_abde_48a4720ed28crow5_col0\" class=\"data row5 col0\" >-0.015</td>\n",
       "                        <td id=\"T_fc611198_dfc7_11e9_abde_48a4720ed28crow5_col1\" class=\"data row5 col1\" >0.1</td>\n",
       "                        <td id=\"T_fc611198_dfc7_11e9_abde_48a4720ed28crow5_col2\" class=\"data row5 col2\" >0.31</td>\n",
       "                        <td id=\"T_fc611198_dfc7_11e9_abde_48a4720ed28crow5_col3\" class=\"data row5 col3\" >0.17</td>\n",
       "                        <td id=\"T_fc611198_dfc7_11e9_abde_48a4720ed28crow5_col4\" class=\"data row5 col4\" >0.86</td>\n",
       "                        <td id=\"T_fc611198_dfc7_11e9_abde_48a4720ed28crow5_col5\" class=\"data row5 col5\" >1</td>\n",
       "                        <td id=\"T_fc611198_dfc7_11e9_abde_48a4720ed28crow5_col6\" class=\"data row5 col6\" >0.075</td>\n",
       "                        <td id=\"T_fc611198_dfc7_11e9_abde_48a4720ed28crow5_col7\" class=\"data row5 col7\" >0.22</td>\n",
       "                        <td id=\"T_fc611198_dfc7_11e9_abde_48a4720ed28crow5_col8\" class=\"data row5 col8\" >-0.044</td>\n",
       "            </tr>\n",
       "            <tr>\n",
       "                        <th id=\"T_fc611198_dfc7_11e9_abde_48a4720ed28clevel0_row6\" class=\"row_heading level0 row6\" >REMOTE_APP_BYTES</th>\n",
       "                        <td id=\"T_fc611198_dfc7_11e9_abde_48a4720ed28crow6_col0\" class=\"data row6 col0\" >-0.027</td>\n",
       "                        <td id=\"T_fc611198_dfc7_11e9_abde_48a4720ed28crow6_col1\" class=\"data row6 col1\" >0.048</td>\n",
       "                        <td id=\"T_fc611198_dfc7_11e9_abde_48a4720ed28crow6_col2\" class=\"data row6 col2\" >0.78</td>\n",
       "                        <td id=\"T_fc611198_dfc7_11e9_abde_48a4720ed28crow6_col3\" class=\"data row6 col3\" >0.025</td>\n",
       "                        <td id=\"T_fc611198_dfc7_11e9_abde_48a4720ed28crow6_col4\" class=\"data row6 col4\" >0.45</td>\n",
       "                        <td id=\"T_fc611198_dfc7_11e9_abde_48a4720ed28crow6_col5\" class=\"data row6 col5\" >0.075</td>\n",
       "                        <td id=\"T_fc611198_dfc7_11e9_abde_48a4720ed28crow6_col6\" class=\"data row6 col6\" >1</td>\n",
       "                        <td id=\"T_fc611198_dfc7_11e9_abde_48a4720ed28crow6_col7\" class=\"data row6 col7\" >0.016</td>\n",
       "                        <td id=\"T_fc611198_dfc7_11e9_abde_48a4720ed28crow6_col8\" class=\"data row6 col8\" >-0.011</td>\n",
       "            </tr>\n",
       "            <tr>\n",
       "                        <th id=\"T_fc611198_dfc7_11e9_abde_48a4720ed28clevel0_row7\" class=\"row_heading level0 row7\" >DNS_QUERY_TIMES</th>\n",
       "                        <td id=\"T_fc611198_dfc7_11e9_abde_48a4720ed28crow7_col0\" class=\"data row7 col0\" >-0.069</td>\n",
       "                        <td id=\"T_fc611198_dfc7_11e9_abde_48a4720ed28crow7_col1\" class=\"data row7 col1\" >-0.046</td>\n",
       "                        <td id=\"T_fc611198_dfc7_11e9_abde_48a4720ed28crow7_col2\" class=\"data row7 col2\" >0.26</td>\n",
       "                        <td id=\"T_fc611198_dfc7_11e9_abde_48a4720ed28crow7_col3\" class=\"data row7 col3\" >0.55</td>\n",
       "                        <td id=\"T_fc611198_dfc7_11e9_abde_48a4720ed28crow7_col4\" class=\"data row7 col4\" >0.41</td>\n",
       "                        <td id=\"T_fc611198_dfc7_11e9_abde_48a4720ed28crow7_col5\" class=\"data row7 col5\" >0.22</td>\n",
       "                        <td id=\"T_fc611198_dfc7_11e9_abde_48a4720ed28crow7_col6\" class=\"data row7 col6\" >0.016</td>\n",
       "                        <td id=\"T_fc611198_dfc7_11e9_abde_48a4720ed28crow7_col7\" class=\"data row7 col7\" >1</td>\n",
       "                        <td id=\"T_fc611198_dfc7_11e9_abde_48a4720ed28crow7_col8\" class=\"data row7 col8\" >0.069</td>\n",
       "            </tr>\n",
       "            <tr>\n",
       "                        <th id=\"T_fc611198_dfc7_11e9_abde_48a4720ed28clevel0_row8\" class=\"row_heading level0 row8\" >Type</th>\n",
       "                        <td id=\"T_fc611198_dfc7_11e9_abde_48a4720ed28crow8_col0\" class=\"data row8 col0\" >0.16</td>\n",
       "                        <td id=\"T_fc611198_dfc7_11e9_abde_48a4720ed28crow8_col1\" class=\"data row8 col1\" >-0.091</td>\n",
       "                        <td id=\"T_fc611198_dfc7_11e9_abde_48a4720ed28crow8_col2\" class=\"data row8 col2\" >-0.083</td>\n",
       "                        <td id=\"T_fc611198_dfc7_11e9_abde_48a4720ed28crow8_col3\" class=\"data row8 col3\" >-0.079</td>\n",
       "                        <td id=\"T_fc611198_dfc7_11e9_abde_48a4720ed28crow8_col4\" class=\"data row8 col4\" >-0.034</td>\n",
       "                        <td id=\"T_fc611198_dfc7_11e9_abde_48a4720ed28crow8_col5\" class=\"data row8 col5\" >-0.044</td>\n",
       "                        <td id=\"T_fc611198_dfc7_11e9_abde_48a4720ed28crow8_col6\" class=\"data row8 col6\" >-0.011</td>\n",
       "                        <td id=\"T_fc611198_dfc7_11e9_abde_48a4720ed28crow8_col7\" class=\"data row8 col7\" >0.069</td>\n",
       "                        <td id=\"T_fc611198_dfc7_11e9_abde_48a4720ed28crow8_col8\" class=\"data row8 col8\" >1</td>\n",
       "            </tr>\n",
       "    </tbody></table>"
      ],
      "text/plain": [
       "<pandas.io.formats.style.Styler at 0x1ec4b4941d0>"
      ]
     },
     "execution_count": 13,
     "metadata": {},
     "output_type": "execute_result"
    }
   ],
   "source": [
    "websites.corr().style.background_gradient(cmap='RdYlGn',axis=None).set_precision(2)"
   ]
  },
  {
   "cell_type": "code",
   "execution_count": null,
   "metadata": {},
   "outputs": [],
   "source": []
  },
  {
   "cell_type": "code",
   "execution_count": 14,
   "metadata": {},
   "outputs": [],
   "source": [
    "# Your comment here"
   ]
  },
  {
   "cell_type": "code",
   "execution_count": 15,
   "metadata": {},
   "outputs": [],
   "source": [
    "# Print heatmap again\n"
   ]
  },
  {
   "cell_type": "markdown",
   "metadata": {},
   "source": [
    "# Challenge 3 - Handle Missing Values\n",
    "\n",
    "The next step would be handling missing values. **We start by examining the number of missing values in each column, which you will do in the next cell.**"
   ]
  },
  {
   "cell_type": "code",
   "execution_count": 16,
   "metadata": {},
   "outputs": [
    {
     "data": {
      "text/plain": [
       "URL                       0\n",
       "URL_LENGTH                0\n",
       "CHARSET                   0\n",
       "SERVER                    1\n",
       "CONTENT_LENGTH          812\n",
       "WHOIS_COUNTRY             0\n",
       "WHOIS_STATEPRO            0\n",
       "WHOIS_REGDATE             0\n",
       "WHOIS_UPDATED_DATE        0\n",
       "DIST_REMOTE_TCP_PORT      0\n",
       "REMOTE_IPS                0\n",
       "SOURCE_APP_PACKETS        0\n",
       "SOURCE_APP_BYTES          0\n",
       "REMOTE_APP_BYTES          0\n",
       "DNS_QUERY_TIMES           1\n",
       "Type                      0\n",
       "dtype: int64"
      ]
     },
     "execution_count": 16,
     "metadata": {},
     "output_type": "execute_result"
    }
   ],
   "source": [
    "# Your code here\n",
    "websites.isna().sum()\n"
   ]
  },
  {
   "cell_type": "markdown",
   "metadata": {},
   "source": [
    "If you remember in the previous labs, we drop a column if the column contains a high proportion of missing values. After dropping those problematic columns, we drop the rows with missing values.\n",
    "\n",
    "#### In the cells below, handle the missing values from the dataset. Remember to comment the rationale of your decisions."
   ]
  },
  {
   "cell_type": "code",
   "execution_count": 17,
   "metadata": {},
   "outputs": [
    {
     "data": {
      "text/plain": [
       "0.8379772961816305"
      ]
     },
     "execution_count": 17,
     "metadata": {},
     "output_type": "execute_result"
    }
   ],
   "source": [
    "# Your code here\n",
    "websites.CONTENT_LENGTH.isna().sum()/websites.CONTENT_LENGTH.count()"
   ]
  },
  {
   "cell_type": "code",
   "execution_count": 18,
   "metadata": {},
   "outputs": [],
   "source": [
    "websites.drop(columns= \"CONTENT_LENGTH\",inplace=True)"
   ]
  },
  {
   "cell_type": "code",
   "execution_count": 19,
   "metadata": {},
   "outputs": [],
   "source": [
    "websites.dropna(how=\"any\", inplace=True)"
   ]
  },
  {
   "cell_type": "code",
   "execution_count": 20,
   "metadata": {},
   "outputs": [],
   "source": [
    "# Your comment here"
   ]
  },
  {
   "cell_type": "markdown",
   "metadata": {},
   "source": [
    "#### Again, examine the number of missing values in each column. \n",
    "\n",
    "If all cleaned, proceed. Otherwise, go back and do more cleaning."
   ]
  },
  {
   "cell_type": "code",
   "execution_count": 21,
   "metadata": {},
   "outputs": [
    {
     "data": {
      "text/plain": [
       "URL                     0\n",
       "URL_LENGTH              0\n",
       "CHARSET                 0\n",
       "SERVER                  0\n",
       "WHOIS_COUNTRY           0\n",
       "WHOIS_STATEPRO          0\n",
       "WHOIS_REGDATE           0\n",
       "WHOIS_UPDATED_DATE      0\n",
       "DIST_REMOTE_TCP_PORT    0\n",
       "REMOTE_IPS              0\n",
       "SOURCE_APP_PACKETS      0\n",
       "SOURCE_APP_BYTES        0\n",
       "REMOTE_APP_BYTES        0\n",
       "DNS_QUERY_TIMES         0\n",
       "Type                    0\n",
       "dtype: int64"
      ]
     },
     "execution_count": 21,
     "metadata": {},
     "output_type": "execute_result"
    }
   ],
   "source": [
    "# Examine missing values in each column\n",
    "websites.isna().sum()"
   ]
  },
  {
   "cell_type": "markdown",
   "metadata": {},
   "source": [
    "# Challenge 4 - Handle `WHOIS_*` Categorical Data"
   ]
  },
  {
   "cell_type": "markdown",
   "metadata": {},
   "source": [
    "There are several categorical columns we need to handle. These columns are:\n",
    "\n",
    "* `URL`\n",
    "* `CHARSET`\n",
    "* `SERVER`\n",
    "* `WHOIS_COUNTRY`\n",
    "* `WHOIS_STATEPRO`\n",
    "* `WHOIS_REGDATE`\n",
    "* `WHOIS_UPDATED_DATE`\n",
    "\n",
    "How to handle string columns is always case by case. Let's start by working on `WHOIS_COUNTRY`. Your steps are:\n",
    "\n",
    "1. List out the unique values of `WHOIS_COUNTRY`.\n",
    "1. Consolidate the country values with consistent country codes. For example, the following values refer to the same country and should use consistent country code:\n",
    "    * `CY` and `Cyprus`\n",
    "    * `US` and `us`\n",
    "    * `SE` and `se`\n",
    "    * `GB`, `United Kingdom`, and `[u'GB'; u'UK']`\n",
    "\n",
    "#### In the cells below, fix the country values as intructed above."
   ]
  },
  {
   "cell_type": "code",
   "execution_count": 22,
   "metadata": {},
   "outputs": [
    {
     "data": {
      "text/plain": [
       "array(['None', 'US', 'SC', 'GB', 'UK', 'RU', 'AU', 'CA', 'PA', 'se', 'IN',\n",
       "       'LU', 'TH', \"[u'GB'; u'UK']\", 'FR', 'NL', 'UG', 'JP', 'CN', 'SE',\n",
       "       'SI', 'IL', 'ru', 'KY', 'AT', 'CZ', 'PH', 'BE', 'NO', 'TR', 'LV',\n",
       "       'DE', 'ES', 'BR', 'us', 'KR', 'HK', 'UA', 'CH', 'United Kingdom',\n",
       "       'BS', 'PK', 'IT', 'Cyprus', 'BY', 'AE', 'IE', 'UY', 'KG'],\n",
       "      dtype=object)"
      ]
     },
     "execution_count": 22,
     "metadata": {},
     "output_type": "execute_result"
    }
   ],
   "source": [
    "# Your code here\n",
    "websites.WHOIS_COUNTRY.unique()"
   ]
  },
  {
   "cell_type": "code",
   "execution_count": 23,
   "metadata": {},
   "outputs": [],
   "source": [
    "websites.replace({'WHOIS_COUNTRY': {\"[u'GB'; u'UK']\": \"UK\", 'United Kingdom': \"UK\", 'GB': \"UK\", 'Cyprus': \"CY\", 'se': \"SE\", 'us': \"US\", 'ru': \"RU\"}}, inplace = True)"
   ]
  },
  {
   "cell_type": "code",
   "execution_count": 24,
   "metadata": {},
   "outputs": [
    {
     "data": {
      "text/plain": [
       "array(['None', 'US', 'SC', 'UK', 'RU', 'AU', 'CA', 'PA', 'SE', 'IN', 'LU',\n",
       "       'TH', 'FR', 'NL', 'UG', 'JP', 'CN', 'SI', 'IL', 'KY', 'AT', 'CZ',\n",
       "       'PH', 'BE', 'NO', 'TR', 'LV', 'DE', 'ES', 'BR', 'KR', 'HK', 'UA',\n",
       "       'CH', 'BS', 'PK', 'IT', 'CY', 'BY', 'AE', 'IE', 'UY', 'KG'],\n",
       "      dtype=object)"
      ]
     },
     "execution_count": 24,
     "metadata": {},
     "output_type": "execute_result"
    }
   ],
   "source": [
    "websites.WHOIS_COUNTRY.unique()"
   ]
  },
  {
   "cell_type": "markdown",
   "metadata": {},
   "source": [
    "Since we have fixed the country values, can we convert this column to ordinal now?\n",
    "\n",
    "Not yet. If you reflect on the previous labs how we handle categorical columns, you probably remember we ended up dropping a lot of those columns because there are too many unique values. Too many unique values in a column is not desirable in machine learning because it makes prediction inaccurate. But there are workarounds under certain conditions. One of the fixable conditions is:\n",
    "\n",
    "#### If a limited number of values account for the majority of data, we can retain these top values and re-label all other rare values.\n",
    "\n",
    "The `WHOIS_COUNTRY` column happens to be this case. You can verify it by print a bar chart of the `value_counts` in the next cell to verify:"
   ]
  },
  {
   "cell_type": "code",
   "execution_count": 25,
   "metadata": {},
   "outputs": [
    {
     "data": {
      "text/plain": [
       "<matplotlib.axes._subplots.AxesSubplot at 0x1ec4b0264e0>"
      ]
     },
     "execution_count": 25,
     "metadata": {},
     "output_type": "execute_result"
    },
    {
     "data": {
      "image/png": "[encoded data removed]",
      "text/plain": [
       "<Figure size 432x288 with 1 Axes>"
      ]
     },
     "metadata": {
      "image/png": {
       "height": 261,
       "width": 397
      },
      "needs_background": "light"
     },
     "output_type": "display_data"
    }
   ],
   "source": [
    "# Your code here\n",
    "%config InlineBackend.figure_format ='retina'\n",
    "sns.countplot(websites.WHOIS_COUNTRY, order = websites.WHOIS_COUNTRY.value_counts().index)"
   ]
  },
  {
   "cell_type": "code",
   "execution_count": 26,
   "metadata": {},
   "outputs": [
    {
     "data": {
      "text/plain": [
       "['US', 'None', 'CA', 'ES', 'AU', 'UK', 'PA', 'JP', 'CN', 'IN']"
      ]
     },
     "execution_count": 26,
     "metadata": {},
     "output_type": "execute_result"
    }
   ],
   "source": [
    "cutoff = websites.WHOIS_COUNTRY.value_counts().head(10)\n",
    "cutoff = list(cutoff.index)\n",
    "cutoff"
   ]
  },
  {
   "cell_type": "markdown",
   "metadata": {},
   "source": [
    "#### After verifying, now let's keep the top 10 values of the column and re-label other columns with `OTHER`."
   ]
  },
  {
   "cell_type": "code",
   "execution_count": 27,
   "metadata": {
    "scrolled": true
   },
   "outputs": [],
   "source": [
    "# Your code here\n",
    "#websites.WHOIS_COUNTRY = np.where(websites.WHOIS_COUNTRY != cutoff.index, \"other\")\n",
    "#websites.loc[websites.WHOIS_COUNTRY != cutoff.index, websites[\"WHOIS_COUNTRY\"] ] = \"Other\"\n",
    "\n",
    "websites.WHOIS_COUNTRY = [i if i in cutoff else 'OTHER' for i in websites.WHOIS_COUNTRY]\n"
   ]
  },
  {
   "cell_type": "markdown",
   "metadata": {},
   "source": [
    "Now since `WHOIS_COUNTRY` has been re-labelled, we don't need `WHOIS_STATEPRO` any more because the values of the states or provinces may not be relevant any more. We'll drop this column.\n",
    "\n",
    "In addition, we will also drop `WHOIS_REGDATE` and `WHOIS_UPDATED_DATE`. These are the registration and update dates of the website domains. Not of our concerns.\n",
    "\n",
    "#### In the next cell, drop `['WHOIS_STATEPRO', 'WHOIS_REGDATE', 'WHOIS_UPDATED_DATE']`."
   ]
  },
  {
   "cell_type": "code",
   "execution_count": 28,
   "metadata": {},
   "outputs": [],
   "source": [
    "# Your code here\n",
    "websites.drop(columns=['WHOIS_STATEPRO', 'WHOIS_REGDATE', 'WHOIS_UPDATED_DATE'], inplace = True)"
   ]
  },
  {
   "cell_type": "markdown",
   "metadata": {},
   "source": [
    "# Challenge 5 - Handle Remaining Categorical Data & Convert to Ordinal\n",
    "\n",
    "Now print the `dtypes` of the data again. Besides `WHOIS_COUNTRY` which we already fixed, there should be 3 categorical columns left: `URL`, `CHARSET`, and `SERVER`."
   ]
  },
  {
   "cell_type": "code",
   "execution_count": 29,
   "metadata": {},
   "outputs": [
    {
     "data": {
      "text/plain": [
       "URL                      object\n",
       "URL_LENGTH                int64\n",
       "CHARSET                  object\n",
       "SERVER                   object\n",
       "WHOIS_COUNTRY            object\n",
       "DIST_REMOTE_TCP_PORT      int64\n",
       "REMOTE_IPS                int64\n",
       "SOURCE_APP_PACKETS        int64\n",
       "SOURCE_APP_BYTES          int64\n",
       "REMOTE_APP_BYTES          int64\n",
       "DNS_QUERY_TIMES         float64\n",
       "Type                      int64\n",
       "dtype: object"
      ]
     },
     "execution_count": 29,
     "metadata": {},
     "output_type": "execute_result"
    }
   ],
   "source": [
    "# Your code here\n",
    "websites.dtypes"
   ]
  },
  {
   "cell_type": "markdown",
   "metadata": {},
   "source": [
    "#### `URL` is easy. We'll simply drop it because it has too many unique values that there's no way for us to consolidate."
   ]
  },
  {
   "cell_type": "code",
   "execution_count": 30,
   "metadata": {},
   "outputs": [],
   "source": [
    "# Your code here\n",
    "websites.drop(columns=['URL'], inplace = True)"
   ]
  },
  {
   "cell_type": "markdown",
   "metadata": {},
   "source": [
    "#### Print the unique value counts of `CHARSET`. You see there are only a few unique values. So we can keep it as it is."
   ]
  },
  {
   "cell_type": "code",
   "execution_count": 31,
   "metadata": {},
   "outputs": [
    {
     "data": {
      "text/plain": [
       "UTF-8           674\n",
       "ISO-8859-1      427\n",
       "utf-8           379\n",
       "us-ascii        155\n",
       "iso-8859-1      134\n",
       "None              7\n",
       "windows-1252      1\n",
       "ISO-8859          1\n",
       "windows-1251      1\n",
       "Name: CHARSET, dtype: int64"
      ]
     },
     "execution_count": 31,
     "metadata": {},
     "output_type": "execute_result"
    }
   ],
   "source": [
    "# Your code here\n",
    "websites.CHARSET.value_counts()"
   ]
  },
  {
   "cell_type": "markdown",
   "metadata": {},
   "source": [
    "`SERVER` is a little more complicated. Print its unique values and think about how you can consolidate those values.\n",
    "\n",
    "#### Before you think of your own solution, don't read the instructions that come next."
   ]
  },
  {
   "cell_type": "code",
   "execution_count": 32,
   "metadata": {},
   "outputs": [
    {
     "data": {
      "text/plain": [
       "Apache                                                                                                                                                         385\n",
       "nginx                                                                                                                                                          211\n",
       "None                                                                                                                                                           175\n",
       "Microsoft-HTTPAPI/2.0                                                                                                                                          113\n",
       "cloudflare-nginx                                                                                                                                                94\n",
       "Microsoft-IIS/7.5                                                                                                                                               51\n",
       "GSE                                                                                                                                                             49\n",
       "Server                                                                                                                                                          49\n",
       "YouTubeFrontEnd                                                                                                                                                 42\n",
       "nginx/1.12.0                                                                                                                                                    36\n",
       "ATS                                                                                                                                                             30\n",
       "Apache/2.2.15 (CentOS)                                                                                                                                          25\n",
       "Apache-Coyote/1.1                                                                                                                                               20\n",
       "Microsoft-IIS/8.5                                                                                                                                               15\n",
       "Apache/2                                                                                                                                                        15\n",
       "Microsoft-IIS/6.0                                                                                                                                               14\n",
       "Apache/2.2.14 (FreeBSD) mod_ssl/2.2.14 OpenSSL/0.9.8y DAV/2 PHP/5.2.12 with Suhosin-Patch                                                                       13\n",
       "Apache/2.4.7 (Ubuntu)                                                                                                                                           13\n",
       "Apache/2.2.15 (Red Hat)                                                                                                                                         12\n",
       "Apache/2.2.22 (Debian)                                                                                                                                          12\n",
       "nginx/1.4.6 (Ubuntu)                                                                                                                                             9\n",
       "nginx/1.8.1                                                                                                                                                      9\n",
       "nginx/1.10.1                                                                                                                                                     8\n",
       "nginx/1.8.0                                                                                                                                                      8\n",
       "Varnish                                                                                                                                                          7\n",
       "Apache/2.4.25 (Amazon) OpenSSL/1.0.1k-fips                                                                                                                       7\n",
       "LiteSpeed                                                                                                                                                        6\n",
       "Apache/2.4.25                                                                                                                                                    6\n",
       "Apache/2.2.31 (Amazon)                                                                                                                                           6\n",
       "nginx/1.6.2                                                                                                                                                      6\n",
       "                                                                                                                                                              ... \n",
       "fbs                                                                                                                                                              1\n",
       "mw2173.codfw.wmnet                                                                                                                                               1\n",
       "Apache/2.2.29 (Unix) mod_ssl/2.2.29 OpenSSL/1.0.1e-fips DAV/2 mod_bwlimited/1.4                                                                                  1\n",
       "Apache/1.3.27 (Unix)  (Red-Hat/Linux) mod_perl/1.26 PHP/4.3.3 FrontPage/5.0.2 mod_ssl/2.8.12 OpenSSL/0.9.6b                                                      1\n",
       "Apache/2.4.10 (Unix) OpenSSL/1.0.1k                                                                                                                              1\n",
       "Cowboy                                                                                                                                                           1\n",
       "Apache/2.2.31 (Unix) mod_ssl/2.2.31 OpenSSL/0.9.8e-fips-rhel5 mod_bwlimited/1.4                                                                                  1\n",
       "www.lexisnexis.com  9999                                                                                                                                         1\n",
       "Apache/1.3.33 (Unix) mod_ssl/2.8.24 OpenSSL/0.9.7e-p1 PHP/4.4.8                                                                                                  1\n",
       "Apache/2.4.25 (FreeBSD) OpenSSL/1.0.1s-freebsd PHP/5.6.30                                                                                                        1\n",
       "Apache/2.2.23 (Amazon)                                                                                                                                           1\n",
       "mw2180.codfw.wmnet                                                                                                                                               1\n",
       "Apache/2.2.14 (Unix) mod_ssl/2.2.14 OpenSSL/0.9.8e-fips-rhel5                                                                                                    1\n",
       "mw2198.codfw.wmnet                                                                                                                                               1\n",
       "Apache/2.2.14 (Ubuntu)                                                                                                                                           1\n",
       "Apache/2.2.3 (Red Hat)                                                                                                                                           1\n",
       "Apache/2.2.10 (Linux/SUSE)                                                                                                                                       1\n",
       "Apache/2.2.31 (FreeBSD) PHP/5.4.15 mod_ssl/2.2.31 OpenSSL/1.0.2d DAV/2                                                                                           1\n",
       "nginx/1.10.0 (Ubuntu)                                                                                                                                            1\n",
       "Apache/1.3.42 Ben-SSL/1.60 (Unix) mod_gzip/1.3.26.1a mod_fastcgi/2.4.6 mod_throttle/3.1.2 Chili!Soft-ASP/3.6.2 FrontPage/5.0.2.2635 mod_perl/1.31 PHP/4.4.9      1\n",
       "nginx/0.8.38                                                                                                                                                     1\n",
       "Play                                                                                                                                                             1\n",
       "Apache/2.4.6 (CentOS) OpenSSL/1.0.1e-fips mod_fcgid/2.3.9 PHP/5.4.16 mod_jk/1.2.40                                                                               1\n",
       "XXXXXXXXXXXXXXXXXXXXXX                                                                                                                                           1\n",
       "mw2240.codfw.wmnet                                                                                                                                               1\n",
       "Apache/2.4.16 (Ubuntu)                                                                                                                                           1\n",
       "Heptu web server                                                                                                                                                 1\n",
       "mw2241.codfw.wmnet                                                                                                                                               1\n",
       "mw2176.codfw.wmnet                                                                                                                                               1\n",
       "nginx/1.7.12                                                                                                                                                     1\n",
       "Name: SERVER, Length: 239, dtype: int64"
      ]
     },
     "execution_count": 32,
     "metadata": {},
     "output_type": "execute_result"
    }
   ],
   "source": [
    "# Your code here\n",
    "websites.SERVER.value_counts()"
   ]
  },
  {
   "cell_type": "markdown",
   "metadata": {},
   "source": [
    "![Think Hard](../images/think-hard.jpg)"
   ]
  },
  {
   "cell_type": "code",
   "execution_count": 33,
   "metadata": {},
   "outputs": [
    {
     "data": {
      "text/plain": [
       "Apache       641\n",
       "Other        599\n",
       "nginx        341\n",
       "Microsoft    198\n",
       "Name: SERVER, dtype: int64"
      ]
     },
     "execution_count": 33,
     "metadata": {},
     "output_type": "execute_result"
    }
   ],
   "source": [
    "# Your comment here\n",
    "condition = [\"Microsoft\",\"Apache\",\"nginx\"]\n",
    "#SERVER = [i if websites.SERVER.str.contains(condition[i]) in condition else 'Other' for i in condition]\n",
    "\n",
    "websites.SERVER = ['Microsoft' if i.startswith('Microsoft') else 'Apache' if i.startswith('Apache') else 'nginx' if i.startswith('nginx') else 'Other' for i in websites.SERVER]\n",
    "websites.SERVER.value_counts()\n"
   ]
  },
  {
   "cell_type": "markdown",
   "metadata": {},
   "source": [
    "Although there are so many unique values in the `SERVER` column, there are actually only 3 main server types: `Microsoft`, `Apache`, and `nginx`. Just check if each `SERVER` value contains any of those server types and re-label them. For `SERVER` values that don't contain any of those substrings, label with `Other`.\n",
    "\n",
    "At the end, your `SERVER` column should only contain 4 unique values: `Microsoft`, `Apache`, `nginx`, and `Other`."
   ]
  },
  {
   "cell_type": "code",
   "execution_count": 34,
   "metadata": {},
   "outputs": [],
   "source": [
    "# Your code here\n"
   ]
  },
  {
   "cell_type": "code",
   "execution_count": 35,
   "metadata": {
    "scrolled": false
   },
   "outputs": [],
   "source": [
    "# Count `SERVER` value counts here\n"
   ]
  },
  {
   "cell_type": "markdown",
   "metadata": {},
   "source": [
    "OK, all our categorical data are fixed now. **Let's convert them to ordinal data using Pandas' `get_dummies` function ([documentation](https://pandas.pydata.org/pandas-docs/stable/generated/pandas.get_dummies.html)).** Make sure you drop the categorical columns by passing `drop_first=True` to `get_dummies` as we don't need them any more. **Also, assign the data with dummy values to a new variable `website_dummy`.**"
   ]
  },
  {
   "cell_type": "code",
   "execution_count": 48,
   "metadata": {},
   "outputs": [],
   "source": [
    "# Your code here\n",
    "website_dummy= pd.get_dummies(websites, drop_first=True)\n",
    "\n"
   ]
  },
  {
   "cell_type": "markdown",
   "metadata": {},
   "source": [
    "Now, inspect `website_dummy` to make sure the data and types are intended - there shouldn't be any categorical columns at this point."
   ]
  },
  {
   "cell_type": "code",
   "execution_count": 50,
   "metadata": {},
   "outputs": [
    {
     "data": {
      "text/plain": [
       "URL_LENGTH                int64\n",
       "DIST_REMOTE_TCP_PORT      int64\n",
       "REMOTE_IPS                int64\n",
       "SOURCE_APP_PACKETS        int64\n",
       "SOURCE_APP_BYTES          int64\n",
       "REMOTE_APP_BYTES          int64\n",
       "DNS_QUERY_TIMES         float64\n",
       "Type                      int64\n",
       "CHARSET_ISO-8859-1        uint8\n",
       "CHARSET_None              uint8\n",
       "CHARSET_UTF-8             uint8\n",
       "CHARSET_iso-8859-1        uint8\n",
       "CHARSET_us-ascii          uint8\n",
       "CHARSET_utf-8             uint8\n",
       "CHARSET_windows-1251      uint8\n",
       "CHARSET_windows-1252      uint8\n",
       "SERVER_Microsoft          uint8\n",
       "SERVER_Other              uint8\n",
       "SERVER_nginx              uint8\n",
       "WHOIS_COUNTRY_CA          uint8\n",
       "WHOIS_COUNTRY_CN          uint8\n",
       "WHOIS_COUNTRY_ES          uint8\n",
       "WHOIS_COUNTRY_IN          uint8\n",
       "WHOIS_COUNTRY_JP          uint8\n",
       "WHOIS_COUNTRY_None        uint8\n",
       "WHOIS_COUNTRY_OTHER       uint8\n",
       "WHOIS_COUNTRY_PA          uint8\n",
       "WHOIS_COUNTRY_UK          uint8\n",
       "WHOIS_COUNTRY_US          uint8\n",
       "dtype: object"
      ]
     },
     "execution_count": 50,
     "metadata": {},
     "output_type": "execute_result"
    }
   ],
   "source": [
    "# Your code here\n",
    "website_dummy.dtypes"
   ]
  },
  {
   "cell_type": "markdown",
   "metadata": {},
   "source": [
    "# Challenge 6 - Modeling, Prediction, and Evaluation\n",
    "\n",
    "We'll start off this section by splitting the data to train and test. **Name your 4 variables `X_train`, `X_test`, `y_train`, and `y_test`. Select 80% of the data for training and 20% for testing.**"
   ]
  },
  {
   "cell_type": "code",
   "execution_count": 56,
   "metadata": {},
   "outputs": [],
   "source": [
    "from sklearn.model_selection import train_test_split\n",
    "y = website_dummy['Type']\n",
    "X = website_dummy.drop(['Type'], axis = 1)\n",
    "# Your code here:\n",
    "X_train, X_test, y_train, y_test = train_test_split(X, y, test_size = 0.2)"
   ]
  },
  {
   "cell_type": "markdown",
   "metadata": {},
   "source": [
    "#### In this lab, we will try two different models and compare our results.\n",
    "\n",
    "The first model we will use in this lab is logistic regression. We have previously learned about logistic regression as a classification algorithm. In the cell below, load `LogisticRegression` from scikit-learn and initialize the model."
   ]
  },
  {
   "cell_type": "code",
   "execution_count": 61,
   "metadata": {},
   "outputs": [
    {
     "name": "stderr",
     "output_type": "stream",
     "text": [
      "C:\\ProgramData\\Anaconda3\\lib\\site-packages\\sklearn\\linear_model\\logistic.py:432: FutureWarning: Default solver will be changed to 'lbfgs' in 0.22. Specify a solver to silence this warning.\n",
      "  FutureWarning)\n"
     ]
    },
    {
     "data": {
      "text/plain": [
       "89.32584269662921"
      ]
     },
     "execution_count": 61,
     "metadata": {},
     "output_type": "execute_result"
    }
   ],
   "source": [
    "# Your code here:\n",
    "from sklearn.linear_model import LogisticRegression\n",
    "lr = LogisticRegression()\n",
    "lr.fit(X_train,y_train)\n",
    "acc = lr.score(X_test,y_test)*100\n",
    "acc"
   ]
  },
  {
   "cell_type": "markdown",
   "metadata": {},
   "source": [
    "Next, fit the model to our training data. We have already separated our data into 4 parts. Use those in your model."
   ]
  },
  {
   "cell_type": "code",
   "execution_count": 40,
   "metadata": {},
   "outputs": [],
   "source": [
    "# Your code here:\n",
    "\n"
   ]
  },
  {
   "cell_type": "markdown",
   "metadata": {},
   "source": [
    "finally, import `confusion_matrix` and `accuracy_score` from `sklearn.metrics` and fit our testing data. Assign the fitted data to `y_pred` and print the confusion matrix as well as the accuracy score"
   ]
  },
  {
   "cell_type": "code",
   "execution_count": 62,
   "metadata": {},
   "outputs": [],
   "source": [
    "# Your code here:\n",
    "from sklearn.metrics import confusion_matrix\n",
    "from sklearn.metrics import accuracy_score"
   ]
  },
  {
   "cell_type": "code",
   "execution_count": 64,
   "metadata": {},
   "outputs": [
    {
     "data": {
      "text/plain": [
       "array([[306,   4],\n",
       "       [ 34,  12]], dtype=int64)"
      ]
     },
     "execution_count": 64,
     "metadata": {},
     "output_type": "execute_result"
    }
   ],
   "source": [
    "y_pred = lr.predict(X_test)\n",
    "confusion_matrix(y_test, y_pred)\n"
   ]
  },
  {
   "cell_type": "code",
   "execution_count": 68,
   "metadata": {},
   "outputs": [
    {
     "data": {
      "text/plain": [
       "89.32584269662921"
      ]
     },
     "execution_count": 68,
     "metadata": {},
     "output_type": "execute_result"
    }
   ],
   "source": [
    "accuracy_score(y_test, y_pred, normalize=True, sample_weight=None)*100\n"
   ]
  },
  {
   "cell_type": "markdown",
   "metadata": {},
   "source": [
    "What are your thoughts on the performance of the model? Write your conclusions below."
   ]
  },
  {
   "cell_type": "code",
   "execution_count": 42,
   "metadata": {},
   "outputs": [],
   "source": [
    "# Your conclusions here:\n",
    "\n"
   ]
  },
  {
   "cell_type": "markdown",
   "metadata": {},
   "source": [
    "#### Our second algorithm is is K-Nearest Neighbors. \n",
    "\n",
    "Though is it not required, we will fit a model using the training data and then test the performance of the model using the testing data. Start by loading `KNeighborsClassifier` from scikit-learn and then initializing and fitting the model. We'll start off with a model where k=3."
   ]
  },
  {
   "cell_type": "code",
   "execution_count": 69,
   "metadata": {},
   "outputs": [],
   "source": [
    "# Your code here:\n",
    "from sklearn.neighbors import KNeighborsClassifier\n",
    "knn = KNeighborsClassifier(n_neighbors = 3)  \n",
    "knn.fit(X_train, y_train)\n",
    "y_pred = knn.predict(X_test)\n",
    "\n",
    "\n"
   ]
  },
  {
   "cell_type": "markdown",
   "metadata": {},
   "source": [
    "To test your model, compute the predicted values for the testing sample and print the confusion matrix as well as the accuracy score."
   ]
  },
  {
   "cell_type": "code",
   "execution_count": 70,
   "metadata": {},
   "outputs": [
    {
     "data": {
      "text/plain": [
       "array([[302,   8],\n",
       "       [ 17,  29]], dtype=int64)"
      ]
     },
     "execution_count": 70,
     "metadata": {},
     "output_type": "execute_result"
    }
   ],
   "source": [
    "# Your code here:\n",
    "\n",
    "confusion_matrix(y_test, y_pred)\n"
   ]
  },
  {
   "cell_type": "code",
   "execution_count": 71,
   "metadata": {},
   "outputs": [
    {
     "data": {
      "text/plain": [
       "92.97752808988764"
      ]
     },
     "execution_count": 71,
     "metadata": {},
     "output_type": "execute_result"
    }
   ],
   "source": [
    "accuracy_score(y_test, y_pred, normalize=True, sample_weight=None)*100\n"
   ]
  },
  {
   "cell_type": "markdown",
   "metadata": {},
   "source": [
    "#### We'll create another K-Nearest Neighbors model with k=5. \n",
    "\n",
    "Initialize and fit the model below and print the confusion matrix and the accuracy score."
   ]
  },
  {
   "cell_type": "code",
   "execution_count": 74,
   "metadata": {},
   "outputs": [
    {
     "data": {
      "text/plain": [
       "array([[304,   6],\n",
       "       [ 16,  30]], dtype=int64)"
      ]
     },
     "execution_count": 74,
     "metadata": {},
     "output_type": "execute_result"
    }
   ],
   "source": [
    "# Your code here:\n",
    "knn = KNeighborsClassifier(n_neighbors = 5)  \n",
    "knn.fit(X_train, y_train)\n",
    "y_pred = knn.predict(X_test)\n",
    "\n",
    "confusion_matrix(y_test, y_pred)\n"
   ]
  },
  {
   "cell_type": "code",
   "execution_count": 75,
   "metadata": {},
   "outputs": [
    {
     "data": {
      "text/plain": [
       "93.82022471910112"
      ]
     },
     "execution_count": 75,
     "metadata": {},
     "output_type": "execute_result"
    }
   ],
   "source": [
    "accuracy_score(y_test, y_pred, normalize=True, sample_weight=None)*100"
   ]
  },
  {
   "cell_type": "markdown",
   "metadata": {},
   "source": [
    "Did you see an improvement in the confusion matrix when increasing k to 5? Did you see an improvement in the accuracy score? Write your conclusions below."
   ]
  },
  {
   "cell_type": "code",
   "execution_count": 46,
   "metadata": {},
   "outputs": [],
   "source": [
    "# Your conclusions here:\n",
    "\n"
   ]
  },
  {
   "cell_type": "markdown",
   "metadata": {},
   "source": [
    "# Bonus Challenge - Feature Scaling\n",
    "\n",
    "Problem-solving in machine learning is iterative. You can improve your model prediction with various techniques (there is a sweetspot for the time you spend and the improvement you receive though). Now you've completed only one iteration of ML analysis. There are more iterations you can conduct to make improvements. In order to be able to do that, you will need deeper knowledge in statistics and master more data analysis techniques. In this bootcamp, we don't have time to achieve that advanced goal. But you will make constant efforts after the bootcamp to eventually get there.\n",
    "\n",
    "However, now we do want you to learn one of the advanced techniques which is called *feature scaling*. The idea of feature scaling is to standardize/normalize the range of independent variables or features of the data. This can make the outliers more apparent so that you can remove them. This step needs to happen during Challenge 6 after you split the training and test data because you don't want to split the data again which makes it impossible to compare your results with and without feature scaling. For general concepts about feature scaling, click [here](https://en.wikipedia.org/wiki/Feature_scaling). To read deeper, click [here](https://medium.com/greyatom/why-how-and-when-to-scale-your-features-4b30ab09db5e).\n",
    "\n",
    "In the next cell, attempt to improve your model prediction accuracy by means of feature scaling. A library you can utilize is `sklearn.preprocessing.RobustScaler` ([documentation](https://scikit-learn.org/stable/modules/generated/sklearn.preprocessing.RobustScaler.html)). You'll use the `RobustScaler` to fit and transform your `X_train`, then transform `X_test`. You will use logistic regression to fit and predict your transformed data and obtain the accuracy score in the same way. Compare the accuracy score with your normalized data with the previous accuracy data. Is there an improvement?"
   ]
  },
  {
   "cell_type": "code",
   "execution_count": 47,
   "metadata": {},
   "outputs": [],
   "source": [
    "# Your code here"
   ]
  }
 ],
 "metadata": {
  "kernelspec": {
   "display_name": "Python 3",
   "language": "python",
   "name": "python3"
  },
  "language_info": {
   "codemirror_mode": {
    "name": "ipython",
    "version": 3
   },
   "file_extension": ".py",
   "mimetype": "text/x-python",
   "name": "python",
   "nbconvert_exporter": "python",
   "pygments_lexer": "ipython3",
   "version": "3.7.3"
  }
 },
 "nbformat": 4,
 "nbformat_minor": 2
}
